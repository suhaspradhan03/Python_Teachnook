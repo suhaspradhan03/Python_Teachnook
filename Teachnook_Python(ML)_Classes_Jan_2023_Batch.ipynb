{
  "nbformat": 4,
  "nbformat_minor": 0,
  "metadata": {
    "colab": {
      "provenance": [],
      "authorship_tag": "ABX9TyMdpzMMtDQz9bVwO0kQ/FAc",
      "include_colab_link": true
    },
    "kernelspec": {
      "name": "python3",
      "display_name": "Python 3"
    },
    "language_info": {
      "name": "python"
    }
  },
  "cells": [
    {
      "cell_type": "markdown",
      "metadata": {
        "id": "view-in-github",
        "colab_type": "text"
      },
      "source": [
        "<a href=\"https://colab.research.google.com/github/suhaspradhan03/Python_Teachnook/blob/main/Teachnook_Python(ML)_Classes_Jan_2023_Batch.ipynb\" target=\"_parent\"><img src=\"https://colab.research.google.com/assets/colab-badge.svg\" alt=\"Open In Colab\"/></a>"
      ]
    },
    {
      "cell_type": "markdown",
      "source": [
        "**Class 1**"
      ],
      "metadata": {
        "id": "6I2CaXDXY1kT"
      }
    },
    {
      "cell_type": "code",
      "source": [
        "# Variable  -> Data Container\n",
        "# Data container means where we store the given/assigned values."
      ],
      "metadata": {
        "id": "OwrDsDqVY4Zz"
      },
      "execution_count": null,
      "outputs": []
    },
    {
      "cell_type": "code",
      "source": [
        "num1=10"
      ],
      "metadata": {
        "id": "j_89yh1qbNeC"
      },
      "execution_count": null,
      "outputs": []
    },
    {
      "cell_type": "code",
      "source": [
        "print(num1)"
      ],
      "metadata": {
        "colab": {
          "base_uri": "https://localhost:8080/"
        },
        "id": "reZKEX0Gb0sS",
        "outputId": "580d58c7-7b1c-496e-ff60-66a9932c7f28"
      },
      "execution_count": null,
      "outputs": [
        {
          "output_type": "stream",
          "name": "stdout",
          "text": [
            "10\n"
          ]
        }
      ]
    },
    {
      "cell_type": "code",
      "source": [
        "# variables ->\n",
        "# we should not use special characters while we are creating variables)\n",
        "# special characters include ( @,#,-,numbers/int/float,etc). exception --> '  _  '  can be used.\n",
        "\n",
        "# Datatypes - Types of data which is stored inside a variable."
      ],
      "metadata": {
        "id": "o7KSKmwUb2sb"
      },
      "execution_count": null,
      "outputs": []
    },
    {
      "cell_type": "code",
      "source": [
        "num = 100\n",
        "print(num)\n",
        "print(type(num))"
      ],
      "metadata": {
        "colab": {
          "base_uri": "https://localhost:8080/"
        },
        "id": "vXXOqPbIcRLs",
        "outputId": "0149a264-6902-4a8a-c2c6-8433c3d23f0f"
      },
      "execution_count": null,
      "outputs": [
        {
          "output_type": "stream",
          "name": "stdout",
          "text": [
            "100\n",
            "<class 'int'>\n"
          ]
        }
      ]
    },
    {
      "cell_type": "code",
      "source": [
        "# Int -> whole number which does not contain any decimal points."
      ],
      "metadata": {
        "id": "SRD63A9zdDPL"
      },
      "execution_count": null,
      "outputs": []
    },
    {
      "cell_type": "code",
      "source": [
        "# float -> Decimal number\n",
        "num1 = 345.678\n",
        "print(num1)\n",
        "print(type(num1))"
      ],
      "metadata": {
        "colab": {
          "base_uri": "https://localhost:8080/"
        },
        "id": "cze_wJYbdoG7",
        "outputId": "00f2d97f-6530-4209-fa8d-d244690fb34e"
      },
      "execution_count": null,
      "outputs": [
        {
          "output_type": "stream",
          "name": "stdout",
          "text": [
            "345.678\n",
            "<class 'float'>\n"
          ]
        }
      ]
    },
    {
      "cell_type": "code",
      "source": [
        "# add\n",
        "num2 = 30.5\n",
        "num3 = 45.55\n",
        "num4 = num2 + num3\n",
        "print(num4)\n",
        "print(type(num4))"
      ],
      "metadata": {
        "colab": {
          "base_uri": "https://localhost:8080/"
        },
        "id": "TKFLK85-eI_h",
        "outputId": "3b1b4515-4a68-4412-f57f-616754d8ba11"
      },
      "execution_count": null,
      "outputs": [
        {
          "output_type": "stream",
          "name": "stdout",
          "text": [
            "76.05\n",
            "<class 'float'>\n"
          ]
        }
      ]
    },
    {
      "cell_type": "code",
      "source": [
        "# subtract\n",
        "num2 = 30.5\n",
        "num3 = 45.55\n",
        "num4 = num2 - num3\n",
        "print(num4)\n",
        "print(type(num4))"
      ],
      "metadata": {
        "colab": {
          "base_uri": "https://localhost:8080/"
        },
        "id": "MlGtpjxIfGUn",
        "outputId": "0fc342ec-8ffb-4ff9-e191-0ff55175e5ba"
      },
      "execution_count": null,
      "outputs": [
        {
          "output_type": "stream",
          "name": "stdout",
          "text": [
            "-15.049999999999997\n",
            "<class 'float'>\n"
          ]
        }
      ]
    },
    {
      "cell_type": "code",
      "source": [
        "# multiply\n",
        "num2 = 30.5\n",
        "num3 = 45.55\n",
        "num4 = num2 * num3\n",
        "print(num4)\n",
        "print(type(num4))"
      ],
      "metadata": {
        "colab": {
          "base_uri": "https://localhost:8080/"
        },
        "id": "vAOPK3o5fOD7",
        "outputId": "94dc07ef-1e4d-4097-f346-989f650b0fcc"
      },
      "execution_count": null,
      "outputs": [
        {
          "output_type": "stream",
          "name": "stdout",
          "text": [
            "1389.2749999999999\n",
            "<class 'float'>\n"
          ]
        }
      ]
    },
    {
      "cell_type": "code",
      "source": [
        "# divide\n",
        "num2 = 30.5\n",
        "num3 = 45.55\n",
        "num4 = num2 / num3\n",
        "print(num4)\n",
        "print(type(num4))"
      ],
      "metadata": {
        "colab": {
          "base_uri": "https://localhost:8080/"
        },
        "id": "v6c8QKa_fS4a",
        "outputId": "dd1c4bdd-35d5-4501-88ca-70aa4a0ac446"
      },
      "execution_count": null,
      "outputs": [
        {
          "output_type": "stream",
          "name": "stdout",
          "text": [
            "0.6695938529088914\n",
            "<class 'float'>\n"
          ]
        }
      ]
    },
    {
      "cell_type": "code",
      "source": [
        "# string -> set of characters written in a single or double quotations.\n",
        "name = 'Introduction of python'\n",
        "print(name)\n",
        "print(type(name))"
      ],
      "metadata": {
        "colab": {
          "base_uri": "https://localhost:8080/"
        },
        "id": "31w2hukFfV0h",
        "outputId": "0157e882-4561-4a3d-d31f-a2189587cdb1"
      },
      "execution_count": null,
      "outputs": [
        {
          "output_type": "stream",
          "name": "stdout",
          "text": [
            "Introduction of python\n",
            "<class 'str'>\n"
          ]
        }
      ]
    },
    {
      "cell_type": "code",
      "source": [
        "# Boolean -> True or False\n",
        "print(3>7)\n",
        "print(11>5)"
      ],
      "metadata": {
        "colab": {
          "base_uri": "https://localhost:8080/"
        },
        "id": "Da26QfAKgm04",
        "outputId": "9429cfb0-e654-49e1-e5f8-cba27e653fc3"
      },
      "execution_count": null,
      "outputs": [
        {
          "output_type": "stream",
          "name": "stdout",
          "text": [
            "False\n",
            "True\n"
          ]
        }
      ]
    },
    {
      "cell_type": "code",
      "source": [
        "# Concatenation : we can add/sub/divide/multiply different types of variables \n",
        "#                 using different types of variables\n",
        "num1 = 100\n",
        "num2 = 34.345\n",
        "print('The addition of two values are', (num1+num2))"
      ],
      "metadata": {
        "colab": {
          "base_uri": "https://localhost:8080/"
        },
        "id": "GsRR9T63ih9A",
        "outputId": "37db5251-0637-4a6e-ca6f-76b8a09dcadd"
      },
      "execution_count": null,
      "outputs": [
        {
          "output_type": "stream",
          "name": "stdout",
          "text": [
            "The addition of two values are 134.345\n"
          ]
        }
      ]
    },
    {
      "cell_type": "code",
      "source": [
        "num1 = 100\n",
        "num2 = 34.345\n",
        "print('The subtraction of two values are', (num1-num2))"
      ],
      "metadata": {
        "colab": {
          "base_uri": "https://localhost:8080/"
        },
        "id": "rRZO_a_eiyC9",
        "outputId": "e364c867-0204-4f5e-f824-278a79120dd0"
      },
      "execution_count": null,
      "outputs": [
        {
          "output_type": "stream",
          "name": "stdout",
          "text": [
            "The subtraction of two values are 65.655\n"
          ]
        }
      ]
    },
    {
      "cell_type": "code",
      "source": [
        "num1 = 100\n",
        "num2 = 34.345\n",
        "print('The multiplication of two values are', (num1*num2))"
      ],
      "metadata": {
        "colab": {
          "base_uri": "https://localhost:8080/"
        },
        "id": "rq33jYdkjLYh",
        "outputId": "e9100bec-859b-43de-fd6e-7c8ef8c2bd50"
      },
      "execution_count": null,
      "outputs": [
        {
          "output_type": "stream",
          "name": "stdout",
          "text": [
            "The multiplication of two values are 3434.5\n"
          ]
        }
      ]
    },
    {
      "cell_type": "code",
      "source": [
        "num1 = 100\n",
        "num2 = 34.345\n",
        "print('The division of two values are', (num1/num2))"
      ],
      "metadata": {
        "colab": {
          "base_uri": "https://localhost:8080/"
        },
        "id": "9bIgFy0rjRXi",
        "outputId": "fc411c00-6459-4b4f-84e3-cca474018742"
      },
      "execution_count": null,
      "outputs": [
        {
          "output_type": "stream",
          "name": "stdout",
          "text": [
            "The division of two values are 2.9116319697190276\n"
          ]
        }
      ]
    },
    {
      "cell_type": "code",
      "source": [
        "# string concatenation \n",
        "name1 = \"hello\"\n",
        "name2 = \"world\"\n",
        "print(name1, name2)"
      ],
      "metadata": {
        "colab": {
          "base_uri": "https://localhost:8080/"
        },
        "id": "s8fbIjAUjUdd",
        "outputId": "a6620d4a-4824-4b35-ebce-2d40a06a14b7"
      },
      "execution_count": null,
      "outputs": [
        {
          "output_type": "stream",
          "name": "stdout",
          "text": [
            "hello world\n"
          ]
        }
      ]
    },
    {
      "cell_type": "code",
      "source": [
        "name = \"Tom & Jerry\"\n",
        "print(\"My favorite cartoon is\", name)"
      ],
      "metadata": {
        "colab": {
          "base_uri": "https://localhost:8080/"
        },
        "id": "EHIgJVuLkTUE",
        "outputId": "252d67c9-2ba7-474c-c9e7-8105f8cbad9e"
      },
      "execution_count": null,
      "outputs": [
        {
          "output_type": "stream",
          "name": "stdout",
          "text": [
            "My favorite cartoon is Tom & Jerry\n"
          ]
        }
      ]
    },
    {
      "cell_type": "code",
      "source": [],
      "metadata": {
        "id": "cecZSUj2kbdC"
      },
      "execution_count": null,
      "outputs": []
    },
    {
      "cell_type": "code",
      "source": [
        "# INPUT : \n",
        "\n",
        "x = int(input('Enter a value: '))\n",
        "y = int(input('Enter the second value: '))\n",
        "print('The output value is ',(x-y))\n",
        "print(type(x))\n",
        "print(type(y))"
      ],
      "metadata": {
        "colab": {
          "base_uri": "https://localhost:8080/"
        },
        "id": "9l1RioS1lC58",
        "outputId": "33bd27dc-d663-4f24-9294-f728924a60dc"
      },
      "execution_count": null,
      "outputs": [
        {
          "output_type": "stream",
          "name": "stdout",
          "text": [
            "Enter a value: 240\n",
            "Enter the second value: 30\n",
            "The output value is  210\n",
            "<class 'int'>\n",
            "<class 'int'>\n"
          ]
        }
      ]
    },
    {
      "cell_type": "markdown",
      "source": [],
      "metadata": {
        "id": "kLd-qtNrtXmj"
      }
    },
    {
      "cell_type": "markdown",
      "source": [
        "\n",
        "**Class2** \n"
      ],
      "metadata": {
        "id": "fOOqTdAS_3dj"
      }
    },
    {
      "cell_type": "markdown",
      "source": [],
      "metadata": {
        "id": "gAalIia6tY5c"
      }
    },
    {
      "cell_type": "code",
      "source": [
        "'''Datatypes \n",
        "int\n",
        "str\n",
        "float\n",
        "bool'''\n",
        "\n",
        "'''Collective datatypes in python\n",
        "list\n",
        "tuple\n",
        "set\n",
        "dictionary'''\n"
      ],
      "metadata": {
        "colab": {
          "base_uri": "https://localhost:8080/",
          "height": 35
        },
        "id": "fr_cpXgT_7Fl",
        "outputId": "824a2390-74de-49ab-9a55-3f86f3264eeb"
      },
      "execution_count": null,
      "outputs": [
        {
          "output_type": "execute_result",
          "data": {
            "text/plain": [
              "'Collective datatypes in python\\nlist\\ntuple\\nset\\ndictionary'"
            ],
            "application/vnd.google.colaboratory.intrinsic+json": {
              "type": "string"
            }
          },
          "metadata": {},
          "execution_count": 3
        }
      ]
    },
    {
      "cell_type": "code",
      "source": [
        "# list ' [] ' -> Collection of multiple types of data, ordered, mutable , []\n",
        "\n",
        "mylist = [\"Data\",\"A\",\"task\",\"Scheduled\"] # homogeneous , Datatype - string\n",
        "print(type(mylist))\n",
        "mylist = [\"Data\",\"A\",\"task\",\"Scheduled\",544,True,245.61] # Heterogeneous \n",
        "print(mylist)\n",
        "print(type(mylist))"
      ],
      "metadata": {
        "colab": {
          "base_uri": "https://localhost:8080/"
        },
        "id": "h5DikGRHBT7V",
        "outputId": "609a5d15-38af-4023-b850-c837dbbbcf06"
      },
      "execution_count": null,
      "outputs": [
        {
          "output_type": "stream",
          "name": "stdout",
          "text": [
            "<class 'list'>\n",
            "['Data', 'A', 'task', 'Scheduled', 544, True, 245.61]\n",
            "<class 'list'>\n"
          ]
        }
      ]
    },
    {
      "cell_type": "code",
      "source": [
        "list1 = [\"there\",\"are\",\"so\",\"many\",\"things\",2345,True,False,22.156]\n",
        "print(list1)\n",
        "print(type(list1))"
      ],
      "metadata": {
        "colab": {
          "base_uri": "https://localhost:8080/"
        },
        "id": "yLJbfckRDVjZ",
        "outputId": "6cd1838a-5a1f-42d8-8203-6ac1c03fc38c"
      },
      "execution_count": null,
      "outputs": [
        {
          "output_type": "stream",
          "name": "stdout",
          "text": [
            "['there', 'are', 'so', 'many', 'things', 2345, True, False, 22.156]\n",
            "<class 'list'>\n"
          ]
        }
      ]
    },
    {
      "cell_type": "code",
      "source": [
        "mylist = [\"Data\",\"A\",\"task\",\"Scheduled\",544,True,245.61]\n",
        "# indexing --> prints individual data\n",
        "# positive indexing\n",
        "print(mylist[0])\n",
        "print(mylist[1])\n",
        "print(mylist[2])\n",
        "print(mylist[3])\n",
        "print(mylist[4])\n",
        "print(mylist[5])\n",
        "print(mylist[6])\n",
        "# Negative indexing \n",
        "print(mylist[-1])\n",
        "print(mylist[-2])\n",
        "print(mylist[-3])\n",
        "print(mylist[-4])\n",
        "print(mylist[-5])"
      ],
      "metadata": {
        "colab": {
          "base_uri": "https://localhost:8080/"
        },
        "id": "85-Qva9hGZD1",
        "outputId": "3f7d3cfd-418e-4d8d-ca8f-a66040d8b533"
      },
      "execution_count": null,
      "outputs": [
        {
          "output_type": "stream",
          "name": "stdout",
          "text": [
            "Data\n",
            "A\n",
            "task\n",
            "Scheduled\n",
            "544\n",
            "True\n",
            "245.61\n",
            "245.61\n",
            "True\n",
            "544\n",
            "Scheduled\n",
            "task\n"
          ]
        }
      ]
    },
    {
      "cell_type": "code",
      "source": [
        "mylist = [\"Data\",\"A\",\"task\",\"Scheduled\",544,True,245.61]\n",
        "print('The value of mylist is',mylist)\n",
        "# update -> changing(updating) the values that are already present in the list.\n",
        "mylist[-2]=False\n",
        "print()\n",
        "print('The updated value is will be below')\n",
        "print()\n",
        "print('The value of mylist is',mylist)\n",
        "mylist[1]='B'\n",
        "# value should be assigned to the vaiable in the format that it is in (string)\n",
        "print('The value of mylist is',mylist)"
      ],
      "metadata": {
        "colab": {
          "base_uri": "https://localhost:8080/"
        },
        "id": "LEHKyHwdQ78U",
        "outputId": "cc8afe89-70c7-4a76-907a-95734e97de6f"
      },
      "execution_count": null,
      "outputs": [
        {
          "output_type": "stream",
          "name": "stdout",
          "text": [
            "The value of mylist is ['Data', 'A', 'task', 'Scheduled', 544, True, 245.61]\n",
            "\n",
            "The updated value is will be below\n",
            "\n",
            "The value of mylist is ['Data', 'A', 'task', 'Scheduled', 544, False, 245.61]\n",
            "The value of mylist is ['Data', 'B', 'task', 'Scheduled', 544, False, 245.61]\n"
          ]
        }
      ]
    },
    {
      "cell_type": "code",
      "source": [
        "# append (add) : add values inside the list\n",
        "\n",
        "mylist.append(\"Details\")\n",
        "print(mylist)\n",
        "print('The values after appending(adding) mylist are ',mylist)\n",
        "\n",
        "# mylist.append(\"values\")\n",
        "# mylist.append(\"home\")\n",
        "# mylist.append(\"calm\")\n",
        "# print('The values after appending(adding) multiple values to mylist are ',mylist)"
      ],
      "metadata": {
        "colab": {
          "base_uri": "https://localhost:8080/"
        },
        "id": "5Lyh3e5VTUZ-",
        "outputId": "e32d24fe-e3fc-4181-8888-728968c3de91"
      },
      "execution_count": null,
      "outputs": [
        {
          "output_type": "stream",
          "name": "stdout",
          "text": [
            "['Data', 'B', 'task', 'Scheduled', 544, False, 245.61, 'Details']\n",
            "The values after appending(adding) mylist are  ['Data', 'B', 'task', 'Scheduled', 544, False, 245.61, 'Details']\n"
          ]
        }
      ]
    },
    {
      "cell_type": "code",
      "source": [
        "\n",
        "# insert -> Adding values into a specific location within the list\n",
        "\n",
        "mylist.insert(3,\"insert\")\n",
        "print(mylist)\n",
        "print(\"The value of mylist after inserting is \",mylist)\n"
      ],
      "metadata": {
        "colab": {
          "base_uri": "https://localhost:8080/"
        },
        "id": "0sSRUWAhVi57",
        "outputId": "2200c4a1-5d68-4354-942e-47bbc7401744"
      },
      "execution_count": null,
      "outputs": [
        {
          "output_type": "stream",
          "name": "stdout",
          "text": [
            "['Data', 'B', 'task', 'insert', 'Scheduled', 544, False, 245.61]\n",
            "The value of mylist after inserting is  ['Data', 'B', 'task', 'insert', 'Scheduled', 544, False, 245.61]\n"
          ]
        }
      ]
    },
    {
      "cell_type": "code",
      "source": [],
      "metadata": {
        "id": "7HoQKTrgk6fk"
      },
      "execution_count": null,
      "outputs": []
    },
    {
      "cell_type": "code",
      "source": [
        "# to concatenate 2 lists together \n",
        "mylist = [\"Data\",\"A\",\"task\",\"Scheduled\",544,True,245.61]\n",
        "list1 = ['1','2','3','4','5',6]\n",
        "print('the concatenated list is ',(mylist+list1))"
      ],
      "metadata": {
        "colab": {
          "base_uri": "https://localhost:8080/"
        },
        "id": "triqZXsNYwQ4",
        "outputId": "66aeb898-8d98-4876-dac6-b994ded5aed3"
      },
      "execution_count": null,
      "outputs": [
        {
          "output_type": "stream",
          "name": "stdout",
          "text": [
            "the concatenated list is  ['Data', 'A', 'task', 'Scheduled', 544, True, 245.61, '1', '2', '3', '4', '5', 6]\n"
          ]
        }
      ]
    },
    {
      "cell_type": "code",
      "source": [
        "# to add and store one list indie another list\n",
        "mylist = [\"Data\",\"A\",\"task\",\"Scheduled\",544,True,245.61]\n",
        "list1 = ['1','2','3','4','5',6]\n",
        "mylist.append(list1)\n",
        "print(mylist)"
      ],
      "metadata": {
        "colab": {
          "base_uri": "https://localhost:8080/"
        },
        "id": "Vlsz2LtJfdWV",
        "outputId": "ee2a1b95-81ed-41c1-bcf2-96a5657a2ad3"
      },
      "execution_count": null,
      "outputs": [
        {
          "output_type": "stream",
          "name": "stdout",
          "text": [
            "['Data', 'A', 'task', 'Scheduled', 544, True, 245.61, ['1', '2', '3', '4', '5', 6]]\n"
          ]
        }
      ]
    },
    {
      "cell_type": "code",
      "source": [
        "# Extend method\n",
        "mylist = [\"Data\",\"A\",\"task\",\"Scheduled\",544,True,245.61]\n",
        "list1 = ['1','2','3','4','5',6]\n",
        "# mylist.extend(list1)\n",
        "list1.extend(mylist)\n",
        "print(\"The value of list1 is \", list1)\n"
      ],
      "metadata": {
        "colab": {
          "base_uri": "https://localhost:8080/"
        },
        "id": "SZyOLndyghq7",
        "outputId": "8cce93c3-c66a-4607-ab1e-df92b22f859f"
      },
      "execution_count": null,
      "outputs": [
        {
          "output_type": "stream",
          "name": "stdout",
          "text": [
            "The value of list1 is  ['1', '2', '3', '4', '5', 6, 'Data', 'A', 'task', 'Scheduled', 544, True, 245.61]\n"
          ]
        }
      ]
    },
    {
      "cell_type": "code",
      "source": [
        "print(mylist)"
      ],
      "metadata": {
        "colab": {
          "base_uri": "https://localhost:8080/"
        },
        "id": "v2otr9p1h5RZ",
        "outputId": "3bb48066-f9de-495c-b274-6a725f8d8b6e"
      },
      "execution_count": null,
      "outputs": [
        {
          "output_type": "stream",
          "name": "stdout",
          "text": [
            "['Data', 'A', 'task', 'Scheduled', 544, True, 245.61, ['1', '2', '3', '4', '5', 6]]\n"
          ]
        }
      ]
    },
    {
      "cell_type": "code",
      "source": [
        "mylist = [\"Data\",\"A\",\"task\",\"Scheduled\",544,True,245.61,\"Details\",1,23,456]"
      ],
      "metadata": {
        "id": "3AaLIkCAk25o"
      },
      "execution_count": null,
      "outputs": []
    },
    {
      "cell_type": "code",
      "source": [
        "# remove -> to delete any specific data in a given list.\n",
        "mylist.remove(544)\n",
        "print('the value is ', mylist)"
      ],
      "metadata": {
        "colab": {
          "base_uri": "https://localhost:8080/"
        },
        "id": "P0JtpYS9lCAN",
        "outputId": "08fddf80-9a35-4b9c-b3de-24bd8a226321"
      },
      "execution_count": null,
      "outputs": [
        {
          "output_type": "stream",
          "name": "stdout",
          "text": [
            "the value is  ['Data', 'A', 'task', 'Scheduled', True, 245.61, 'Details', 1, 23, 456]\n"
          ]
        }
      ]
    },
    {
      "cell_type": "code",
      "source": [
        "# delete\n",
        "del mylist[-5]\n",
        "print('the value is ',mylist)"
      ],
      "metadata": {
        "colab": {
          "base_uri": "https://localhost:8080/"
        },
        "id": "Fwx39He9lVCG",
        "outputId": "7ad0c3d0-2055-4953-84b7-3de214e48576"
      },
      "execution_count": null,
      "outputs": [
        {
          "output_type": "stream",
          "name": "stdout",
          "text": [
            "the value is  ['Data', 'A', 'task', 'Scheduled', True, 'Details', 1, 23, 456]\n"
          ]
        }
      ]
    },
    {
      "cell_type": "code",
      "source": [
        "print(mylist)\n",
        "del mylist\n",
        "#print(mylist)"
      ],
      "metadata": {
        "colab": {
          "base_uri": "https://localhost:8080/"
        },
        "id": "szWsgBDLltae",
        "outputId": "34a84f2e-ff69-407d-fbaa-27d50eaf74fd"
      },
      "execution_count": null,
      "outputs": [
        {
          "output_type": "stream",
          "name": "stdout",
          "text": [
            "['Data', 'A', 'task', 'Scheduled', 544, True, 245.61, 'Details', 1, 23, 456]\n"
          ]
        }
      ]
    },
    {
      "cell_type": "code",
      "source": [
        "print(mylist)"
      ],
      "metadata": {
        "colab": {
          "base_uri": "https://localhost:8080/"
        },
        "id": "q5_el0vsou0Z",
        "outputId": "1ce1983c-6211-496f-fce5-adb224549384"
      },
      "execution_count": null,
      "outputs": [
        {
          "output_type": "stream",
          "name": "stdout",
          "text": [
            "['Data', 'A', 'task', 'Scheduled', 544, True, 245.61, 'Details', 1, 23, 456]\n"
          ]
        }
      ]
    },
    {
      "cell_type": "code",
      "source": [
        "# tupple --> ordered collection of datatypes. Immutable \n",
        "\n",
        "mytuple = (\"dell\",534,\"HP\",34.6,False)\n",
        "print(mytuple)\n",
        "print(len(mytuple))\n",
        "\n",
        "tuple2 = ('acer',250,\"macbook\",22.5,True)\n",
        "# mytuple.append(\"details\")   -> tuple object cannot append,insert,extend\n",
        "# print(mytuple)                  or delete(remove or pop) items in the tuple\n",
        "# mytuple.insert(4,\"details\")\n",
        "# print(mytuple)\n",
        "# mytuple.extend(tuple2)\n",
        "# print(mytuple)"
      ],
      "metadata": {
        "colab": {
          "base_uri": "https://localhost:8080/"
        },
        "id": "HwhlwcXRo2ZH",
        "outputId": "37d2a886-cccb-433d-8db1-9574e0aea4df"
      },
      "execution_count": null,
      "outputs": [
        {
          "output_type": "stream",
          "name": "stdout",
          "text": [
            "('dell', 534, 'HP', 34.6, False)\n",
            "5\n"
          ]
        }
      ]
    },
    {
      "cell_type": "code",
      "source": [
        "# Dictionary -> {} , based. on key and value pairs "
      ],
      "metadata": {
        "id": "qjQM9OMPVA7M"
      },
      "execution_count": null,
      "outputs": []
    },
    {
      "cell_type": "code",
      "source": [
        "mydict = {\n",
        "          \"username\":\"Admin\", \n",
        "          \"password\":\"pass\",\n",
        "          \"batch\":2023\n",
        "          }\n",
        "\n",
        "print(mydict)\n",
        "\n",
        "# updating a dictionary\n",
        "\n",
        "mydict[\"username\"] = \"suhas\"\n",
        "mydict[\"password\"] = \"subscribe&follow\"\n",
        "print(mydict)\n",
        "print(type(mydict))\n",
        "\n",
        "print(\"The updated value after changing the value is \", mydict)\n",
        "mydict2 = {\"name\":\"sujo\", \"age\":26, \"health\":\"good\"} "
      ],
      "metadata": {
        "colab": {
          "base_uri": "https://localhost:8080/"
        },
        "id": "iTobboKUhlHg",
        "outputId": "4a4f1023-5d26-4984-ed32-a9795c05d01a"
      },
      "execution_count": null,
      "outputs": [
        {
          "output_type": "stream",
          "name": "stdout",
          "text": [
            "{'username': 'Admin', 'password': 'pass', 'batch': 2023}\n",
            "{'username': 'suhas', 'password': 'subscribe&follow', 'batch': 2023}\n",
            "<class 'dict'>\n",
            "The updated value after changing the value is  {'username': 'suhas', 'password': 'subscribe&follow', 'batch': 2023}\n"
          ]
        }
      ]
    },
    {
      "cell_type": "code",
      "source": [
        "mydict2 = {\"name\":\"sujo\", \"age\":26, \"health\":\"good\"} \n",
        "\n",
        "mydict2[\"name\"] = (\"suhas\",\"joshua\",\"pradhan\")      # this is a tupple(cant be changed)\n",
        "mydict2[\"age\"] = [26,29,33]                         # this is a list (can be changed)\n",
        "mydict2[\"health\"] = [\"good\",\"great\",\"okayish\"]      # this is a list (can be changed)\n",
        "\n",
        "print(mydict2)\n",
        "print(\"The updated value after changing the key/value pair is \", mydict2)\n"
      ],
      "metadata": {
        "colab": {
          "base_uri": "https://localhost:8080/"
        },
        "id": "GlFzjgeainKv",
        "outputId": "549eb00a-1e26-41d4-f612-9356ca5f0c05"
      },
      "execution_count": null,
      "outputs": [
        {
          "output_type": "stream",
          "name": "stdout",
          "text": [
            "{'name': ('suhas', 'joshua', 'pradhan'), 'age': [26, 29, 33], 'health': ['good', 'great', 'okayish']}\n",
            "The updated value after changing the key/value pair is  {'name': ('suhas', 'joshua', 'pradhan'), 'age': [26, 29, 33], 'health': ['good', 'great', 'okayish']}\n"
          ]
        }
      ]
    },
    {
      "cell_type": "code",
      "source": [
        "# replace -> removeing a value in the string, with a blank space\n",
        "x = 'hellohahahahhaa'\n",
        "print(x.replace('h', ''))\n",
        "# print(s.replace('a', '')) --> should be done in this way or it replace wont work"
      ],
      "metadata": {
        "colab": {
          "base_uri": "https://localhost:8080/"
        },
        "id": "B-REpSZAqJv0",
        "outputId": "3e60bfff-c9cd-4d73-95ba-8657c587a2a2"
      },
      "execution_count": null,
      "outputs": [
        {
          "output_type": "stream",
          "name": "stdout",
          "text": [
            "elloaaaaa\n"
          ]
        }
      ]
    },
    {
      "cell_type": "code",
      "source": [
        "x = 'hello'\n",
        "# del x[0]\n",
        "# string object does not support item deletion.\n",
        "\n",
        "print(x.replace('h',''))\n",
        "# it can be replaced using the replace method "
      ],
      "metadata": {
        "colab": {
          "base_uri": "https://localhost:8080/"
        },
        "id": "wbcQbBOptQ9t",
        "outputId": "01ab0532-bfb6-4a8a-dba8-fae47c548f14"
      },
      "execution_count": null,
      "outputs": [
        {
          "output_type": "stream",
          "name": "stdout",
          "text": [
            "ello\n"
          ]
        }
      ]
    },
    {
      "cell_type": "code",
      "source": [
        "xdict = {\"username\":\"admin\",\"age\":25,\"work\":\"going\"}\n",
        "print(xdict[\"username\"])\n",
        "print(xdict)\n",
        "\n",
        "xdict[\"username\"] = (\"suhas\",\"joshua\",\"pradhan\")\n",
        "xdict[\"age\"] = [25,26,27]\n",
        "xdict[\"work\"] = [\"Ds\",\"AI\",\"ML\"]\n",
        "\n",
        "print(xdict[\"username\"])\n",
        "print(xdict)\n",
        "\n",
        "# xdict.append[\"user\"] = \"new user\"\n",
        "# attribute Error: 'dict' object has no attribute 'append'\n"
      ],
      "metadata": {
        "colab": {
          "base_uri": "https://localhost:8080/"
        },
        "id": "rkoEnN5ywZs5",
        "outputId": "9e207b99-c0e1-4666-b47d-99b0383441ba"
      },
      "execution_count": null,
      "outputs": [
        {
          "output_type": "stream",
          "name": "stdout",
          "text": [
            "admin\n",
            "{'username': 'admin', 'age': 25, 'work': 'going'}\n",
            "('suhas', 'joshua', 'pradhan')\n",
            "{'username': ('suhas', 'joshua', 'pradhan'), 'age': [25, 26, 27], 'work': ['Ds', 'AI', 'ML']}\n"
          ]
        }
      ]
    },
    {
      "cell_type": "code",
      "source": [
        "print(xdict)\n",
        "\n",
        "# adding a list to a key directly\n",
        "\n",
        "list1 = [11,12,13,14,15]\n",
        "xdict[\"age\"] = list1\n",
        "\n",
        "print(xdict)\n",
        "\n",
        "xdict.pop(\"age\")\n",
        "print(xdict)"
      ],
      "metadata": {
        "colab": {
          "base_uri": "https://localhost:8080/"
        },
        "id": "K6OEDMRo0UdF",
        "outputId": "8956aafc-feb0-405d-8d78-61cc7fd957b5"
      },
      "execution_count": null,
      "outputs": [
        {
          "output_type": "stream",
          "name": "stdout",
          "text": [
            "{'username': ('suhas', 'joshua', 'pradhan'), 'age': [11, 12, 13, 14, 15], 'work': ['Ds', 'AI', 'ML']}\n",
            "{'username': ('suhas', 'joshua', 'pradhan'), 'age': [11, 12, 13, 14, 15], 'work': ['Ds', 'AI', 'ML']}\n",
            "{'username': ('suhas', 'joshua', 'pradhan'), 'work': ['Ds', 'AI', 'ML']}\n"
          ]
        }
      ]
    },
    {
      "cell_type": "code",
      "source": [
        "# set --> {}, unordered collection of datatypes, does not contain any duplicate values.\n",
        "\n",
        "myset = {'data','task',12,34.6,False,12,12,False}\n",
        "print(myset)\n",
        "\n",
        "# add\n",
        "myset.add(\"True\")\n",
        "print(myset)\n",
        "\n",
        "\n"
      ],
      "metadata": {
        "colab": {
          "base_uri": "https://localhost:8080/"
        },
        "id": "7x0rZ5nT44ab",
        "outputId": "de369442-80f9-49b5-ea53-7d1f3d79eb4d"
      },
      "execution_count": null,
      "outputs": [
        {
          "output_type": "stream",
          "name": "stdout",
          "text": [
            "{False, 34.6, 12, 'task', 'data'}\n",
            "{False, 34.6, 12, 'task', 'data', 'True'}\n"
          ]
        }
      ]
    },
    {
      "cell_type": "code",
      "source": [
        "# extend does not work, we use union and intersection\n",
        "# union -> combine twop or more sets of data into 1 set \n",
        "# symbol -->.      |     for union \n",
        "set1 = {1,2,3,4}\n",
        "set2 = {4,5,6,7}\n",
        "set3 = {7,8,9,0}\n",
        "\n",
        "set4 = set1|set2|set3\n",
        "print(set4)"
      ],
      "metadata": {
        "colab": {
          "base_uri": "https://localhost:8080/"
        },
        "id": "0GrXmanQBIYX",
        "outputId": "0f8e89d9-c018-47c6-915f-32faacc24026"
      },
      "execution_count": null,
      "outputs": [
        {
          "output_type": "stream",
          "name": "stdout",
          "text": [
            "{0, 1, 2, 3, 4, 5, 6, 7, 8, 9}\n"
          ]
        }
      ]
    },
    {
      "cell_type": "code",
      "source": [
        "# intersection -> & (or) .intersection\n",
        "# intersection means common datas within the sets\n",
        "\n",
        "set3 = set2.intersection(set1)\n",
        "print(set3)\n"
      ],
      "metadata": {
        "colab": {
          "base_uri": "https://localhost:8080/"
        },
        "id": "ZLpu_7woFgQO",
        "outputId": "f62c48de-974f-4348-ad07-ce655060af76"
      },
      "execution_count": null,
      "outputs": [
        {
          "output_type": "stream",
          "name": "stdout",
          "text": [
            "{4}\n"
          ]
        }
      ]
    },
    {
      "cell_type": "code",
      "source": [
        "set4 = set1.difference(set2)\n",
        "print(set4)"
      ],
      "metadata": {
        "colab": {
          "base_uri": "https://localhost:8080/"
        },
        "id": "4FuCOIh_JBZf",
        "outputId": "e468a5b0-2b67-4ec9-ae39-4680280b61b7"
      },
      "execution_count": null,
      "outputs": [
        {
          "output_type": "stream",
          "name": "stdout",
          "text": [
            "{1, 2, 3}\n"
          ]
        }
      ]
    },
    {
      "cell_type": "markdown",
      "source": [
        "**Class 4** \n",
        "\n",
        "**should be Written as class 3**"
      ],
      "metadata": {
        "id": "bsalea8oToPS"
      }
    },
    {
      "cell_type": "markdown",
      "source": [
        "**Functions**"
      ],
      "metadata": {
        "id": "x4zDA6XV2As_"
      }
    },
    {
      "cell_type": "code",
      "source": [
        "# to print this statement 5 times\n",
        "print(\"Hello all \\ngood evening everyone \\nwelcome back to the class\")\n",
        "print(\"Hello all \\ngood evening everyone \\nwelcome back to the class\")\n",
        "print(\"Hello all \\ngood evening everyone \\nwelcome back to the class\")\n",
        "# \\n -> will be used to print the data in the new line "
      ],
      "metadata": {
        "id": "3VqEVPyqTvoe",
        "colab": {
          "base_uri": "https://localhost:8080/"
        },
        "outputId": "7d2d6a5e-afec-4b08-f9cb-f3ca95281043"
      },
      "execution_count": null,
      "outputs": [
        {
          "output_type": "stream",
          "name": "stdout",
          "text": [
            "Hello all \n",
            "good evening everyone \n",
            "welcome back to the class\n",
            "Hello all \n",
            "good evening everyone \n",
            "welcome back to the class\n",
            "Hello all \n",
            "good evening everyone \n",
            "welcome back to the class\n"
          ]
        }
      ]
    },
    {
      "cell_type": "code",
      "source": [
        "def a():\n",
        "  print(\"Hello all \\ngood evening everyone \\nwelcome back to the class\")\n",
        "\n",
        "a()"
      ],
      "metadata": {
        "colab": {
          "base_uri": "https://localhost:8080/"
        },
        "id": "IZ7nR48mt1ND",
        "outputId": "8d3a0885-6be2-41ef-8f57-4401d3b777bf"
      },
      "execution_count": null,
      "outputs": [
        {
          "output_type": "stream",
          "name": "stdout",
          "text": [
            "Hello all \n",
            "good evening everyone \n",
            "welcome back to the class\n"
          ]
        }
      ]
    },
    {
      "cell_type": "code",
      "source": [
        "# we can use this function as many number of times necessary\n",
        "def name():\n",
        "  print(\"hello all\")\n",
        "\n",
        "name()\n",
        "name()\n",
        "name"
      ],
      "metadata": {
        "colab": {
          "base_uri": "https://localhost:8080/"
        },
        "id": "5RzFgNUd2qlO",
        "outputId": "d242187d-524e-44ad-9f85-495d40a4aec6"
      },
      "execution_count": null,
      "outputs": [
        {
          "output_type": "stream",
          "name": "stdout",
          "text": [
            "hello all\n",
            "hello all\n"
          ]
        },
        {
          "output_type": "execute_result",
          "data": {
            "text/plain": [
              "<function __main__.name()>"
            ]
          },
          "metadata": {},
          "execution_count": 9
        }
      ]
    },
    {
      "cell_type": "code",
      "source": [
        "def add(num1,num2):\n",
        "  print(\"the concatenation of two parameters are :- \",(num1+num2))\n",
        "\n",
        "add(2,3)\n",
        "# 2 arguments are placed inside the add function which is being called."
      ],
      "metadata": {
        "colab": {
          "base_uri": "https://localhost:8080/"
        },
        "id": "VRouj5zm4BkN",
        "outputId": "403660b5-a601-4afb-fa35-7568025793fe"
      },
      "execution_count": null,
      "outputs": [
        {
          "output_type": "stream",
          "name": "stdout",
          "text": [
            "the concatenation of two parameters are :-  5\n"
          ]
        }
      ]
    },
    {
      "cell_type": "code",
      "source": [
        "# stinig concat\n",
        "def add1():\n",
        "  num1= input(\"enter 1st value \")\n",
        "  num2= input(\"enter 2nd value \")\n",
        "  print(\"the concat of two string inputs will be\", (num1+num2))\n",
        "\n",
        "add1()"
      ],
      "metadata": {
        "colab": {
          "base_uri": "https://localhost:8080/"
        },
        "id": "wtelXn9_kf0W",
        "outputId": "7e45250e-53c8-4bd9-a17f-7ea932dea1fe"
      },
      "execution_count": null,
      "outputs": [
        {
          "output_type": "stream",
          "name": "stdout",
          "text": [
            "enter 1st value 10\n",
            "enter 2nd value 10\n",
            "the concat of two string inputs will be 1010\n"
          ]
        }
      ]
    },
    {
      "cell_type": "code",
      "source": [
        "# int concat -> convert string to int during the input\n",
        "def add2():\n",
        "  num1= int(input(\"enter 1st value \"))\n",
        "  num2= int(input(\"enter 2nd value \"))\n",
        "  print(\"the concat of two string inputs will be\", (num1+num2))\n",
        "\n",
        "add2()"
      ],
      "metadata": {
        "colab": {
          "base_uri": "https://localhost:8080/"
        },
        "id": "LIHaKa-1lI2K",
        "outputId": "bbfd0c9f-f084-4866-c55d-35e7faf93c73"
      },
      "execution_count": null,
      "outputs": [
        {
          "output_type": "stream",
          "name": "stdout",
          "text": [
            "enter 1st value 10\n",
            "enter 2nd value 10\n",
            "the concat of two string inputs will be 20\n"
          ]
        }
      ]
    },
    {
      "cell_type": "code",
      "source": [
        "def a(name):\n",
        "  print(\"my fav food is\",name)\n",
        "\n",
        "a(\"pani puri - costs 30\")\n",
        "a(\"vada pav\")"
      ],
      "metadata": {
        "colab": {
          "base_uri": "https://localhost:8080/"
        },
        "id": "gmeYL_PMluD5",
        "outputId": "52d898e7-5a13-406b-f5d2-d18c4dc90d16"
      },
      "execution_count": null,
      "outputs": [
        {
          "output_type": "stream",
          "name": "stdout",
          "text": [
            "my fav food is pani puri - costs 30\n",
            "my fav food is vada pav\n"
          ]
        }
      ]
    },
    {
      "cell_type": "code",
      "source": [
        "# subtraction \n",
        "def sub():\n",
        "  num1= int(input(\"enter 1st value \"))\n",
        "  num2= int(input(\"enter 2nd value \"))\n",
        "  print(\"the concat of two string inputs will be\", (num1-num2))\n",
        "\n",
        "sub()"
      ],
      "metadata": {
        "colab": {
          "base_uri": "https://localhost:8080/"
        },
        "id": "7OatYpPYmNon",
        "outputId": "3d572090-db53-4d4b-c555-9a039c84a42b"
      },
      "execution_count": null,
      "outputs": [
        {
          "output_type": "stream",
          "name": "stdout",
          "text": [
            "enter 1st value 10\n",
            "enter 2nd value 5\n",
            "the concat of two string inputs will be 5\n"
          ]
        }
      ]
    },
    {
      "cell_type": "code",
      "source": [
        "# subtraction without using input and only parameters\n",
        "def sub2(num1,num2):\n",
        "  print(\"the subtraction of two values will be\", (num1-num2))\n",
        "  print(\"the multiplied values are\",num1*num2)\n",
        "  print(\"the divided value will be\",num1//num2)\n",
        "\n",
        "sub2(20,5)"
      ],
      "metadata": {
        "colab": {
          "base_uri": "https://localhost:8080/"
        },
        "id": "QJNeGRDYmhd-",
        "outputId": "bba1ebc8-4901-4f42-f654-6be29566805e"
      },
      "execution_count": null,
      "outputs": [
        {
          "output_type": "stream",
          "name": "stdout",
          "text": [
            "the subtraction of two values will be 15\n",
            "the multiplied values are 100\n",
            "the divided value will be 4\n"
          ]
        }
      ]
    },
    {
      "cell_type": "code",
      "source": [
        "# Loop --> loop means printing the data one after the other\n",
        "a = 5\n",
        "for x in range(0,a):\n",
        "  print(x)"
      ],
      "metadata": {
        "colab": {
          "base_uri": "https://localhost:8080/"
        },
        "id": "zEE2NXgOmzgz",
        "outputId": "242dc456-49fc-4bfc-fff2-03e81a07252d"
      },
      "execution_count": null,
      "outputs": [
        {
          "output_type": "stream",
          "name": "stdout",
          "text": [
            "0\n",
            "1\n",
            "2\n",
            "3\n",
            "4\n"
          ]
        }
      ]
    },
    {
      "cell_type": "code",
      "source": [
        "# for loop -- range defined \n",
        "for y in range(10):\n",
        "  print(y)"
      ],
      "metadata": {
        "colab": {
          "base_uri": "https://localhost:8080/"
        },
        "id": "W5PCVvx4rwWN",
        "outputId": "748e61c2-4e8b-4459-8d93-e1cef61cb789"
      },
      "execution_count": null,
      "outputs": [
        {
          "output_type": "stream",
          "name": "stdout",
          "text": [
            "0\n",
            "1\n",
            "2\n",
            "3\n",
            "4\n",
            "5\n",
            "6\n",
            "7\n",
            "8\n",
            "9\n"
          ]
        }
      ]
    },
    {
      "cell_type": "code",
      "source": [
        "# to make all this data be printed in seperate lines \n",
        "\n",
        "mylist = [\"Data\",\"A\",\"task\",\"Scheduled\",544,True,245.61]\n",
        "\n",
        "print(mylist)\n",
        "\n",
        "for ab in mylist:\n",
        "  print(ab)"
      ],
      "metadata": {
        "colab": {
          "base_uri": "https://localhost:8080/"
        },
        "id": "mbCTcWyjr6f9",
        "outputId": "129257dd-07fd-43b3-ba02-26dff26db7f7"
      },
      "execution_count": null,
      "outputs": [
        {
          "output_type": "stream",
          "name": "stdout",
          "text": [
            "['Data', 'A', 'task', 'Scheduled', 544, True, 245.61]\n",
            "Data\n",
            "A\n",
            "task\n",
            "Scheduled\n",
            "544\n",
            "True\n",
            "245.61\n"
          ]
        }
      ]
    },
    {
      "cell_type": "code",
      "source": [
        "# FOR Loop -> how to use for loop better\n",
        "\n",
        "num = int(input(\"enter a range : \"))\n",
        "# for i in range(1,num+1):\n",
        "for i in range(0,num):\n",
        "  print(i)\n",
        "\n",
        "num1 = (\"hi\",\"sample\",\"on\",\"for\",\"loop\",1,2,3,4)\n",
        "for x in num1:\n",
        "  print(\"the data in the range is: \", x)"
      ],
      "metadata": {
        "colab": {
          "base_uri": "https://localhost:8080/"
        },
        "id": "NDMP34l9vkpQ",
        "outputId": "dbb627fa-3e2a-49bc-dc29-e14a085fbb22"
      },
      "execution_count": null,
      "outputs": [
        {
          "output_type": "stream",
          "name": "stdout",
          "text": [
            "enter a range : 2\n",
            "0\n",
            "1\n",
            "the data in the range is:  hi\n",
            "the data in the range is:  sample\n",
            "the data in the range is:  on\n",
            "the data in the range is:  for\n",
            "the data in the range is:  loop\n",
            "the data in the range is:  1\n",
            "the data in the range is:  2\n",
            "the data in the range is:  3\n",
            "the data in the range is:  4\n"
          ]
        }
      ]
    },
    {
      "cell_type": "code",
      "source": [
        "def a():\n",
        "  for x in range(5):      # when this condition is true that is when the loop happens \n",
        "  # so when x =  , true , print.  x = 2, true, prints. ... x = 5.  (n - 1), true,prints. x = 6, false,does not print and stops. \n",
        "    print(\"Hello all \\ngood evening everyone \\nwelcome back to the class\")\n",
        " \n",
        "a()"
      ],
      "metadata": {
        "colab": {
          "base_uri": "https://localhost:8080/"
        },
        "id": "RvX2H2TpxB0l",
        "outputId": "69892e3d-c183-4652-e330-c34dd496f9cd"
      },
      "execution_count": null,
      "outputs": [
        {
          "output_type": "stream",
          "name": "stdout",
          "text": [
            "Hello all \n",
            "good evening everyone \n",
            "welcome back to the class\n",
            "Hello all \n",
            "good evening everyone \n",
            "welcome back to the class\n",
            "Hello all \n",
            "good evening everyone \n",
            "welcome back to the class\n",
            "Hello all \n",
            "good evening everyone \n",
            "welcome back to the class\n",
            "Hello all \n",
            "good evening everyone \n",
            "welcome back to the class\n"
          ]
        }
      ]
    },
    {
      "cell_type": "code",
      "source": [
        "# if , elif, and else statements\n",
        "\n",
        "if(2>6):\n",
        "  print(\"first number is greater\")\n",
        "elif(2<6):\n",
        "  print(\"the second number is greater\")\n",
        "else:\n",
        "  print(\"none\")"
      ],
      "metadata": {
        "colab": {
          "base_uri": "https://localhost:8080/"
        },
        "id": "D75VaEA-BywI",
        "outputId": "60f6b19c-230f-40ba-90b7-a9f45c1679bf"
      },
      "execution_count": null,
      "outputs": [
        {
          "output_type": "stream",
          "name": "stdout",
          "text": [
            "the second number is greater\n"
          ]
        }
      ]
    },
    {
      "cell_type": "code",
      "source": [
        "def quiz():\n",
        "  x = input(\"enter any one letter - a,b,c,d:- \")\n",
        "  if x == ('a' or 'b' or 'd'):\n",
        "    print(\"you have lost\")\n",
        "  elif x == \"c\":\n",
        "    print(\"you won\")\n",
        "  else:\n",
        "    print(\"please play again\")\n",
        "\n",
        "quiz()"
      ],
      "metadata": {
        "colab": {
          "base_uri": "https://localhost:8080/"
        },
        "id": "H4XuBIorHCtH",
        "outputId": "7abb73c8-1dc0-4aa2-936c-65fcbb13bf4f"
      },
      "execution_count": null,
      "outputs": [
        {
          "output_type": "stream",
          "name": "stdout",
          "text": [
            "enter any one letter - a,b,c,d:- a\n",
            "you have lost\n"
          ]
        }
      ]
    },
    {
      "cell_type": "markdown",
      "source": [
        "** Class 5 **"
      ],
      "metadata": {
        "id": "cS7sPI1KOqUR"
      }
    },
    {
      "cell_type": "code",
      "source": [
        "# Files - Where the data can be stored, Accessed or Read.\n",
        "\n",
        "# 3 different modes to use the files\n",
        "\n",
        "# (i)   read mode   - only reads the file\n",
        "# (ii)  write mode  - writing data to a file, existing data will be excluded,\n",
        "#                     new data will be added to the file\n",
        "# (iii) append mode - both the new data as well as the existing data will be added to the file.\n"
      ],
      "metadata": {
        "id": "Ao2K7kdtOw53"
      },
      "execution_count": null,
      "outputs": []
    },
    {
      "cell_type": "code",
      "source": [
        "file = open(\"a.txt\",\"r\")\n",
        "print(file.read())"
      ],
      "metadata": {
        "colab": {
          "base_uri": "https://localhost:8080/"
        },
        "id": "YzTuhgSPPlBJ",
        "outputId": "65c5f292-f022-463b-d0ed-f95d9d311c55"
      },
      "execution_count": null,
      "outputs": [
        {
          "output_type": "stream",
          "name": "stdout",
          "text": [
            "# Files - Where the data can be stored, Accessed or Read.\n",
            "# 3 different modes to use the files\n",
            "# read mode \n",
            "# write mode \n",
            "# append mode\n"
          ]
        }
      ]
    },
    {
      "cell_type": "code",
      "source": [
        "file = open(\"a.txt\",\"w\")\n",
        "file.write(\"this is written by the user\")\n",
        "\n",
        "# the ouput till this part will be 27\n",
        "# 27 --> refers to the number of characters present"
      ],
      "metadata": {
        "colab": {
          "base_uri": "https://localhost:8080/"
        },
        "id": "conC-YILX-gS",
        "outputId": "b998072f-e2ea-497d-8c09-a07154c7ab42"
      },
      "execution_count": null,
      "outputs": [
        {
          "output_type": "execute_result",
          "data": {
            "text/plain": [
              "27"
            ]
          },
          "metadata": {},
          "execution_count": 2
        }
      ]
    },
    {
      "cell_type": "code",
      "source": [
        "# reading a file\n",
        "file1 = open(\"a.txt\",\"r\")\n",
        "print(file1.read())"
      ],
      "metadata": {
        "colab": {
          "base_uri": "https://localhost:8080/"
        },
        "id": "zQICHlSF7sS3",
        "outputId": "0b681558-9978-4d82-e95f-ad5067b70daa"
      },
      "execution_count": null,
      "outputs": [
        {
          "output_type": "stream",
          "name": "stdout",
          "text": [
            "\n"
          ]
        }
      ]
    },
    {
      "cell_type": "code",
      "source": [
        "# writing a file \n",
        "file1 = open(\"a.txt\",\"w\")\n",
        "file1.write(\"This is written by the developer\")"
      ],
      "metadata": {
        "colab": {
          "base_uri": "https://localhost:8080/"
        },
        "id": "W5MnrNld74Kh",
        "outputId": "0a79bf56-d632-4053-aa46-d333b22ad774"
      },
      "execution_count": null,
      "outputs": [
        {
          "output_type": "execute_result",
          "data": {
            "text/plain": [
              "32"
            ]
          },
          "metadata": {},
          "execution_count": 6
        }
      ]
    },
    {
      "cell_type": "code",
      "source": [
        "file1 = open(\"a.txt\",\"r\")\n",
        "print(file1.read())"
      ],
      "metadata": {
        "colab": {
          "base_uri": "https://localhost:8080/"
        },
        "id": "2AJ-mian8Iz6",
        "outputId": "710108b9-e08b-4b55-e52d-5e6b838c750d"
      },
      "execution_count": null,
      "outputs": [
        {
          "output_type": "stream",
          "name": "stdout",
          "text": [
            "This is written by the developer\n"
          ]
        }
      ]
    },
    {
      "cell_type": "code",
      "source": [
        "# appending a file \n",
        "file1 = open(\"a.txt\",\"a\")\n",
        "file1.write(\"\\nThis is done and written by the user or developer\")"
      ],
      "metadata": {
        "colab": {
          "base_uri": "https://localhost:8080/"
        },
        "id": "cJEw9eX18Qpv",
        "outputId": "2c333edc-21a5-43f8-f950-b9b9c00d0234"
      },
      "execution_count": null,
      "outputs": [
        {
          "output_type": "execute_result",
          "data": {
            "text/plain": [
              "50"
            ]
          },
          "metadata": {},
          "execution_count": 11
        }
      ]
    },
    {
      "cell_type": "code",
      "source": [
        "file1 = open(\"a.txt\",\"r\")\n",
        "print(file1.read())"
      ],
      "metadata": {
        "colab": {
          "base_uri": "https://localhost:8080/"
        },
        "id": "7FPFqHzM8s3B",
        "outputId": "6ba63290-df57-452c-9137-a381156128fa"
      },
      "execution_count": null,
      "outputs": [
        {
          "output_type": "stream",
          "name": "stdout",
          "text": [
            "This is written by the developer\n",
            "This is done and written by the user or developer\n"
          ]
        }
      ]
    },
    {
      "cell_type": "code",
      "source": [
        "# using with keyword -> context manager and using read\n",
        "with open(\"a.txt\",\"r\") as file1:\n",
        "  print(file1.read())"
      ],
      "metadata": {
        "colab": {
          "base_uri": "https://localhost:8080/"
        },
        "id": "vcP9yQw3YMUb",
        "outputId": "39fea8d3-5674-4535-aa49-39bf7fa48c5f"
      },
      "execution_count": null,
      "outputs": [
        {
          "output_type": "stream",
          "name": "stdout",
          "text": [
            "This is written by the developer\n",
            "This is done and written by the user or developer\n"
          ]
        }
      ]
    },
    {
      "cell_type": "code",
      "source": [
        "## Adding lists using with - into files\n",
        "\n",
        "mylists = [\"\\nData \\n\",\"Details \\n\",\"Tasks \"]"
      ],
      "metadata": {
        "id": "BiVVuyac92CL"
      },
      "execution_count": null,
      "outputs": []
    },
    {
      "cell_type": "code",
      "source": [
        "with open(\"a.txt\",\"a\") as file1:\n",
        "  file1.writelines(mylists)\n",
        "  "
      ],
      "metadata": {
        "id": "88Gtk_vbb7xS"
      },
      "execution_count": null,
      "outputs": []
    },
    {
      "cell_type": "code",
      "source": [
        "with open(\"a.txt\",\"r\") as file1:\n",
        "  print(file1.read())"
      ],
      "metadata": {
        "colab": {
          "base_uri": "https://localhost:8080/"
        },
        "id": "jsKG8yML-K0K",
        "outputId": "ef831792-865a-4348-964f-95070e945bde"
      },
      "execution_count": null,
      "outputs": [
        {
          "output_type": "stream",
          "name": "stdout",
          "text": [
            "This is written by the developer\n",
            "This is done and written by the user or developerData \n",
            "Details \n",
            "TasksData \n",
            "Details \n",
            "TasksData \n",
            "Details \n",
            "Tasks \n",
            "\n",
            " Data \n",
            "Details \n",
            "Tasks \n",
            "\n",
            "Data \n",
            "Details \n",
            "Tasks \n",
            "\n"
          ]
        }
      ]
    },
    {
      "cell_type": "code",
      "source": [
        "# create a simple calculator\n",
        "\n",
        "def cal():\n",
        "  num1 = int(input(\"enter the first value\"))\n",
        "  num2 = int(input(\"enter the second value\"))\n",
        "  op = input(\"Enter the operator -> +,-,*,/\")\n",
        "  if op == \"+\":\n",
        "    print(\"The addition of 2 values \",(num1+num2))\n",
        "  elif op == \"-\":\n",
        "    print(\"The subtraction of 2 values \",(num1-num2))\n",
        "  elif op == \"*\":\n",
        "    print(\"The multiplication of 2 values \",(num1*num2))\n",
        "  else:\n",
        "    print(\"The Division of 2 values\",(num1/num2))\n",
        "\n",
        "cal()\n"
      ],
      "metadata": {
        "colab": {
          "base_uri": "https://localhost:8080/"
        },
        "id": "PSWNnnh8-QmV",
        "outputId": "5351f347-998a-4d7f-f309-55fed8e4c8ed"
      },
      "execution_count": null,
      "outputs": [
        {
          "output_type": "stream",
          "name": "stdout",
          "text": [
            "enter the first value5\n",
            "enter the second value6\n",
            "Enter the operator -> +,-,*,/*\n",
            "The multiplication of 2 values  30\n"
          ]
        }
      ]
    },
    {
      "cell_type": "markdown",
      "source": [
        "**Class 6**"
      ],
      "metadata": {
        "id": "0CZIPq-yMoNl"
      }
    },
    {
      "cell_type": "code",
      "source": [
        "# function\n",
        "\n",
        "def _a_():\n",
        "  print(\"hello all\")\n",
        "\n",
        "_a_()"
      ],
      "metadata": {
        "colab": {
          "base_uri": "https://localhost:8080/"
        },
        "id": "sCjREMGgA61p",
        "outputId": "32a0f542-ad92-4c14-eb9c-49b8b1f5bd94"
      },
      "execution_count": null,
      "outputs": [
        {
          "output_type": "stream",
          "name": "stdout",
          "text": [
            "hello all\n"
          ]
        }
      ]
    },
    {
      "cell_type": "code",
      "source": [
        "def _a_(name,num):\n",
        "  print(\"hello all\")\n",
        "\n",
        "_a_('su','1')"
      ],
      "metadata": {
        "colab": {
          "base_uri": "https://localhost:8080/"
        },
        "id": "rpDdZVKft8AC",
        "outputId": "04624847-0dd8-4286-a7bf-b2175ac1bc89"
      },
      "execution_count": null,
      "outputs": [
        {
          "output_type": "stream",
          "name": "stdout",
          "text": [
            "hello all\n"
          ]
        }
      ]
    },
    {
      "cell_type": "code",
      "source": [
        "def _a_(name,num):\n",
        "  print(\"hello\", name ,\"your roll nunber is \", num)\n",
        "\n",
        "_a_('suhas', 5)"
      ],
      "metadata": {
        "colab": {
          "base_uri": "https://localhost:8080/"
        },
        "id": "fXPbgg98uEr9",
        "outputId": "5927f2bc-84c8-4dc0-b546-618a85988e92"
      },
      "execution_count": null,
      "outputs": [
        {
          "output_type": "stream",
          "name": "stdout",
          "text": [
            "hello suhas your roll nunber is  5\n"
          ]
        }
      ]
    },
    {
      "cell_type": "code",
      "source": [
        "# Advanced Argument Passing \n",
        "''' types of methods are used \n",
        "--> Positional Arguments \n",
        " '''\n",
        "\n",
        "def arg(name,city,batch):\n",
        "  print(\"my name is\", name,\"from\", city,\"and i belong to the Jan Batch\", batch)\n",
        "\n",
        "arg('suhas','vizag',2023)"
      ],
      "metadata": {
        "colab": {
          "base_uri": "https://localhost:8080/"
        },
        "id": "TA7PgfXsvLun",
        "outputId": "52094f83-3ae9-43e2-e298-2f14ae7d0f3e"
      },
      "execution_count": null,
      "outputs": [
        {
          "output_type": "stream",
          "name": "stdout",
          "text": [
            "my name is suhas from vizag and i belong to the Jan Batch 2023\n"
          ]
        }
      ]
    },
    {
      "cell_type": "code",
      "source": [
        "# Positional Argument \n",
        "\n",
        "def arg(name,city,batch):\n",
        "  print(\"my name is\", name,\"from\", city,\"and i belong to the Jan Batch\", batch)\n",
        "\n",
        "arg('vizag',2023, \"suhas\")\n",
        "\n",
        "# The arguments here will be mismatched.\n",
        "# so to make sure the correct argument goes to the correct loaction."
      ],
      "metadata": {
        "colab": {
          "base_uri": "https://localhost:8080/"
        },
        "id": "bsTPBI2txmE5",
        "outputId": "ffcfa879-3648-4c35-9581-f1492fa41193"
      },
      "execution_count": null,
      "outputs": [
        {
          "output_type": "stream",
          "name": "stdout",
          "text": [
            "my name is vizag from 2023 and i belong to the Jan Batch  suhas\n"
          ]
        }
      ]
    },
    {
      "cell_type": "code",
      "source": [
        "# Keyword Argument -> \n",
        "# The data will be returned in the form of key and values.\n",
        "# whatever the order might be, we mention that \n",
        "# a particular value is psecifically for that key only.\n",
        "\n",
        "def arg(name,city,batch):\n",
        "  print(\"my name is\", name,\"from\", city,\"and i belong to the Jan Batch\", batch)\n",
        "  print(type(name))\n",
        "  print(type(city))\n",
        "  print(type(batch))\n",
        "\n",
        "arg(city = 'Bangalore',batch = 2023,  name = \"suhas\")"
      ],
      "metadata": {
        "colab": {
          "base_uri": "https://localhost:8080/"
        },
        "id": "kqfWKjIBzcnz",
        "outputId": "df99585e-5d18-47fe-d7a4-a58e2fc96817"
      },
      "execution_count": null,
      "outputs": [
        {
          "output_type": "stream",
          "name": "stdout",
          "text": [
            "my name is suhas from Bangalore and i belong to the Jan Batch 2023\n",
            "<class 'str'>\n",
            "<class 'str'>\n",
            "<class 'int'>\n"
          ]
        }
      ]
    },
    {
      "cell_type": "code",
      "source": [
        "# Default Argument ->\n",
        "def arg(name = \"suhas\",city = \"bangalore\",batch = 2023):\n",
        "  print(\"my name is\", name,\"from\", city,\"and i belong to the Jan Batch\", batch)\n",
        "\n",
        "arg()"
      ],
      "metadata": {
        "colab": {
          "base_uri": "https://localhost:8080/"
        },
        "id": "IsVKCrqR9B09",
        "outputId": "1c735806-4a9f-4268-a030-1d479415a652"
      },
      "execution_count": null,
      "outputs": [
        {
          "output_type": "stream",
          "name": "stdout",
          "text": [
            "my name is suhas from bangalore and i belong to the Jan Batch 2023\n"
          ]
        }
      ]
    },
    {
      "cell_type": "code",
      "source": [
        "# both positional and keyword argument \n",
        "\n",
        "def arg(name,city,batch):\n",
        "  print(\"my name is\", name,\"from\", city,\"and i belong to the Jan Batch\", batch)\n",
        "\n",
        "arg(\"suhas\", batch = 2023,city = \"vizag\")"
      ],
      "metadata": {
        "colab": {
          "base_uri": "https://localhost:8080/"
        },
        "id": "FbmZ3AJuAjzk",
        "outputId": "de3db65b-b440-4a7e-e3d2-520a45e6e3d2"
      },
      "execution_count": null,
      "outputs": [
        {
          "output_type": "stream",
          "name": "stdout",
          "text": [
            "my name is suhas from vizag and i belong to the Jan Batch 2023\n"
          ]
        }
      ]
    },
    {
      "cell_type": "code",
      "source": [],
      "metadata": {
        "id": "VEBs2mq7CJqz"
      },
      "execution_count": null,
      "outputs": []
    },
    {
      "cell_type": "code",
      "source": [
        "# Slicing  ->  Prints a sequence of elements or a range of elements\n",
        "\n",
        "s = \"Python course\"\n",
        "#print 1 single element \n",
        "print(s[0])\n",
        "# print excluding the 0th element of the sequence \n",
        "print()\n",
        "print(s[1:])\n",
        "print()\n",
        "# print (from negative indexing)\n",
        "print(s[:-7])\n"
      ],
      "metadata": {
        "colab": {
          "base_uri": "https://localhost:8080/"
        },
        "id": "ECccr1I2DnVk",
        "outputId": "9debdb6d-cadb-426b-8150-de5582093e22"
      },
      "execution_count": null,
      "outputs": [
        {
          "output_type": "stream",
          "name": "stdout",
          "text": [
            "P\n",
            "\n",
            "ython course\n",
            "\n",
            "Python\n"
          ]
        }
      ]
    },
    {
      "cell_type": "code",
      "source": [
        "# start , stop , step  --  slicing \n",
        "s = \"Python course\"\n",
        "print(s[::2])\n",
        "print(s[::3])"
      ],
      "metadata": {
        "colab": {
          "base_uri": "https://localhost:8080/"
        },
        "id": "QQrEDN6HGRfW",
        "outputId": "9a556c0c-87b6-4e81-ef74-ba5c943422a1"
      },
      "execution_count": null,
      "outputs": [
        {
          "output_type": "stream",
          "name": "stdout",
          "text": [
            "Pto ore\n",
            "Ph ue\n"
          ]
        }
      ]
    },
    {
      "cell_type": "code",
      "source": [],
      "metadata": {
        "id": "bdU3fOcNRWzk"
      },
      "execution_count": null,
      "outputs": []
    },
    {
      "cell_type": "markdown",
      "source": [
        "**Class 7**"
      ],
      "metadata": {
        "id": "zplNlqSaRXCc"
      }
    },
    {
      "cell_type": "code",
      "source": [
        "# Advanced argument passing  "
      ],
      "metadata": {
        "id": "aOSH_XnIRZfE"
      },
      "execution_count": null,
      "outputs": []
    },
    {
      "cell_type": "code",
      "source": [
        "# N - number of arguments(*args -> when we dont know the exact number of arguments)\n",
        "'''\n",
        "*args -> when we know parameter of the function and we dont know \n",
        "how many more arguments are present in the second/third parameters,\n",
        "that is when we use *args (SYMBOL -> *)\n",
        "'''\n",
        "def details(teacher,*args):\n",
        "  print(\"the name of the teacher is \",teacher)\n",
        "  # why is a looping statement is used??\n",
        "  # All the data that is paassed to the args is printed in a \n",
        "  # looping statement so every argument can be printed after the other.\n",
        "  for roll_no in args:\n",
        "    print(\"the student roll numbers are\", roll_no)\n",
        "\n",
        "details(\"Lucy\",1,2,3,789,8,5)\n",
        "# all the arguments are in an ordered form.\n"
      ],
      "metadata": {
        "colab": {
          "base_uri": "https://localhost:8080/"
        },
        "id": "l13kestqOwqy",
        "outputId": "27e92db8-0197-405d-eca2-4c87bc258a14"
      },
      "execution_count": null,
      "outputs": [
        {
          "output_type": "stream",
          "name": "stdout",
          "text": [
            "the name of the teacher is  Lucy\n",
            "the student roll numbers are 1\n",
            "the student roll numbers are 2\n",
            "the student roll numbers are 3\n",
            "the student roll numbers are 789\n",
            "the student roll numbers are 8\n",
            "the student roll numbers are 5\n"
          ]
        }
      ]
    },
    {
      "cell_type": "code",
      "source": [
        "def details(teacher,*args):\n",
        "# for sorted(ascending / decending ordered *args - \n",
        "# create new variable with sorted function and pass it in the looping statement )\n",
        "  print(\"the name of the teacher is \",teacher)\n",
        "  s_args= sorted(args)\n",
        "  for roll_no in s_args:\n",
        "    print(\"the student roll numbers are\", roll_no)\n",
        "details(\"sam\",1,4,11,26,78,8,5)"
      ],
      "metadata": {
        "colab": {
          "base_uri": "https://localhost:8080/"
        },
        "id": "K71RMulbRkIS",
        "outputId": "f7fbb5d0-083f-4f39-aeba-4c48c65c3337"
      },
      "execution_count": null,
      "outputs": [
        {
          "output_type": "stream",
          "name": "stdout",
          "text": [
            "the name of the teacher is  sam\n",
            "the student roll numbers are 1\n",
            "the student roll numbers are 4\n",
            "the student roll numbers are 5\n",
            "the student roll numbers are 8\n",
            "the student roll numbers are 11\n",
            "the student roll numbers are 26\n",
            "the student roll numbers are 78\n"
          ]
        }
      ]
    },
    {
      "cell_type": "code",
      "source": [
        "# **kwargs --> when we want both keys and arguments to be assigned."
      ],
      "metadata": {
        "id": "7IFBabTPVkFk"
      },
      "execution_count": null,
      "outputs": []
    },
    {
      "cell_type": "code",
      "source": [
        "def details(teacher,*args,**kwargs):\n",
        "  print(\"the name of the teacher is \",teacher)\n",
        "  s_args= sorted(args)\n",
        "  for roll_no in s_args:\n",
        "    print(\"the student roll numbers are\", roll_no)\n",
        "  for subject in kwargs:\n",
        "    print(subject, kwargs[subject])\n",
        "\n",
        "details(\"sam\",1,4,11,26,78,8,5,python=100,Ds = 30,webdev = 50)"
      ],
      "metadata": {
        "colab": {
          "base_uri": "https://localhost:8080/"
        },
        "id": "j1MITr8cVFWC",
        "outputId": "1d6e4772-6537-4010-9a98-66c87227bef4"
      },
      "execution_count": null,
      "outputs": [
        {
          "output_type": "stream",
          "name": "stdout",
          "text": [
            "the name of the teacher is  sam\n",
            "the student roll numbers are 1\n",
            "the student roll numbers are 4\n",
            "the student roll numbers are 5\n",
            "the student roll numbers are 8\n",
            "the student roll numbers are 11\n",
            "the student roll numbers are 26\n",
            "the student roll numbers are 78\n",
            "python 100\n",
            "Ds 30\n",
            "webdev 50\n"
          ]
        }
      ]
    },
    {
      "cell_type": "code",
      "source": [
        "a = [\"sam\",1,4,11,26,78,8,5,\"python100\",\"Ds30\",\"webdev50\"]\n",
        "\n",
        "for i in a:\n",
        "  print(i)\n",
        "print()\n",
        "b = [1,4,11,26,78,8,5]\n",
        "c = sorted(b)\n",
        "for j in c:\n",
        "  print(j)"
      ],
      "metadata": {
        "colab": {
          "base_uri": "https://localhost:8080/"
        },
        "id": "YxDtW2A-ZHWo",
        "outputId": "29545335-d739-4534-b54d-df8b78e35a40"
      },
      "execution_count": null,
      "outputs": [
        {
          "output_type": "stream",
          "name": "stdout",
          "text": [
            "sam\n",
            "1\n",
            "4\n",
            "11\n",
            "26\n",
            "78\n",
            "8\n",
            "5\n",
            "python100\n",
            "Ds30\n",
            "webdev50\n",
            "\n",
            "1\n",
            "4\n",
            "5\n",
            "8\n",
            "11\n",
            "26\n",
            "78\n"
          ]
        }
      ]
    },
    {
      "cell_type": "code",
      "source": [
        "# Iterators\n",
        "# An object that contains countable number of values\n",
        "# the data will be printed one after the other.\n",
        "\n",
        "# 2 methods --> ITER, NEXT\n",
        "\n",
        "mylist1 = [1,2,55,4,5,66,7,8,9] "
      ],
      "metadata": {
        "id": "UayyoR6PeTwr"
      },
      "execution_count": null,
      "outputs": []
    },
    {
      "cell_type": "code",
      "source": [
        "# ITER -> passes all the values to the variable that is assigned\n",
        "# Next -> knows what is the next data that is to be passed when ever the code is executed. \n",
        "myiterator = iter(mylist1)\n",
        "print(next(myiterator))\n",
        "print(next(myiterator))\n",
        "print(next(myiterator))\n",
        "print(next(myiterator))"
      ],
      "metadata": {
        "colab": {
          "base_uri": "https://localhost:8080/"
        },
        "id": "YqP1E6NpfpTg",
        "outputId": "4960c416-1e72-4dba-fa16-ec910309c5f0"
      },
      "execution_count": null,
      "outputs": [
        {
          "output_type": "stream",
          "name": "stdout",
          "text": [
            "1\n",
            "2\n",
            "55\n",
            "4\n"
          ]
        }
      ]
    },
    {
      "cell_type": "code",
      "source": [
        "###\n",
        "'''\n",
        "how to remove a value or a string from a set ?\n",
        "'''\n",
        "# highest value in set -  max method \n",
        "# lowest value in set -   min method \n",
        "myset = {1,2,3,4,5,6}\n",
        "print(max(myset))\n",
        "print(min(myset))\n",
        "\n",
        "# remove value or string variable from a set - remove method \n",
        "\n",
        "myset.remove(5)\n",
        "print(myset)\n",
        "\n",
        "# adding data inside a set\n",
        "\n",
        "myset.add(99)\n",
        "myset.add(40)\n",
        "myset.add(77)\n",
        "print(myset)\n"
      ],
      "metadata": {
        "colab": {
          "base_uri": "https://localhost:8080/"
        },
        "id": "DQvrxAy_gCCX",
        "outputId": "b5e59d59-ddc2-4b36-d1ac-9dfebf49ab1f"
      },
      "execution_count": null,
      "outputs": [
        {
          "output_type": "stream",
          "name": "stdout",
          "text": [
            "6\n",
            "1\n",
            "{1, 2, 3, 4, 6}\n",
            "{1, 2, 3, 4, 99, 6, 40, 77}\n"
          ]
        }
      ]
    },
    {
      "cell_type": "code",
      "source": [],
      "metadata": {
        "id": "Ul5mxpQY3VkR"
      },
      "execution_count": null,
      "outputs": []
    },
    {
      "cell_type": "code",
      "source": [
        "# '''\n",
        "# Create an input, take some randomm numbers.\n",
        "# sort them into 2 lists as even and odd numbers\n",
        "# '''\n",
        "\n",
        "# def splitevenandodd(A):\n",
        "#   evenlist = []\n",
        "#   oddlist = []\n",
        "#   for i in A:\n",
        "#     if (i % 2 == 0):\n",
        "#       evenlist.append(i)\n",
        "#     else:\n",
        "#       oddlist.append(i)\n",
        "#   print(\"Evenlist : \",evenlist)\n",
        "#   print(\"oddlist : \",oddlist)\n",
        "  "
      ],
      "metadata": {
        "colab": {
          "base_uri": "https://localhost:8080/",
          "height": 35
        },
        "id": "_s5zMSfj2QBK",
        "outputId": "c24bb7ab-51b7-426a-ebd4-8cdba0ee2831"
      },
      "execution_count": null,
      "outputs": [
        {
          "output_type": "execute_result",
          "data": {
            "text/plain": [
              "'\\nCreate an input, take some randomm numbers.\\nsort them into 2 lists as even and odd numbers\\n'"
            ],
            "application/vnd.google.colaboratory.intrinsic+json": {
              "type": "string"
            }
          },
          "metadata": {},
          "execution_count": 1
        }
      ]
    },
    {
      "cell_type": "code",
      "source": [],
      "metadata": {
        "id": "94jv8va53ox8"
      },
      "execution_count": null,
      "outputs": []
    },
    {
      "cell_type": "markdown",
      "source": [
        "**Class 8**"
      ],
      "metadata": {
        "id": "XPrdW-UYY0pT"
      }
    },
    {
      "cell_type": "code",
      "source": [
        "# Exception Handling in python"
      ],
      "metadata": {
        "id": "gCE27XHkY4Bu"
      },
      "execution_count": null,
      "outputs": []
    },
    {
      "cell_type": "code",
      "source": [
        "'''\n",
        "we use exception handling to handle the error we know that we will get\n",
        "once we execute the program.\n",
        "'''"
      ],
      "metadata": {
        "id": "ZwWVoJ1TZCJH"
      },
      "execution_count": null,
      "outputs": []
    },
    {
      "cell_type": "code",
      "source": [
        "# 2 Types of errors \n",
        "'''\n",
        "Logical Error -> math error, 0 division error \n",
        "Syntax Error  -> name error\n",
        "'''"
      ],
      "metadata": {
        "id": "mwFQ5eZrZN6_"
      },
      "execution_count": null,
      "outputs": []
    },
    {
      "cell_type": "code",
      "source": [
        "list1 = [0,1,22,3,4,64,5,4,33]\n",
        "\n",
        "try:\n",
        "  print(list1[4])\n",
        "  print(list1[8])\n",
        "  print(list1[6])\n",
        "  print(list1[20])\n",
        "  print(list1[0])\n",
        "\n",
        "except:\n",
        "  print(\"invalid index value - please change the index value\")"
      ],
      "metadata": {
        "colab": {
          "base_uri": "https://localhost:8080/"
        },
        "id": "I150EACNZS81",
        "outputId": "3fbde071-65e2-4b03-ac7c-d971510ca9ee"
      },
      "execution_count": null,
      "outputs": [
        {
          "output_type": "stream",
          "name": "stdout",
          "text": [
            "4\n",
            "33\n",
            "5\n",
            "invalid index value - please change the index value\n"
          ]
        }
      ]
    },
    {
      "cell_type": "code",
      "source": [
        "# import module\n",
        "# -- when the file doesnt exist\n",
        "import sys\n",
        "\n",
        "try:\n",
        "  x = open('file1.txt','r')\n",
        "  print(x.read())\n",
        "except:\n",
        "  print(\"there is no file in the system\")"
      ],
      "metadata": {
        "colab": {
          "base_uri": "https://localhost:8080/"
        },
        "id": "KLJVPdsvgy7_",
        "outputId": "2e95be01-01aa-4455-e086-1b9356dac81c"
      },
      "execution_count": null,
      "outputs": [
        {
          "output_type": "stream",
          "name": "stdout",
          "text": [
            "there is no file in the system\n"
          ]
        }
      ]
    },
    {
      "cell_type": "code",
      "source": [
        "# when the file exists\n",
        "# import sys\n",
        "\n",
        "try:\n",
        "  x = open('file.txt','r')\n",
        "  print(x.read())\n",
        "except:\n",
        "  print(\"there is no file in the system\")\n",
        "finally:\n",
        "  print(\"the code is partially completed\")"
      ],
      "metadata": {
        "id": "2q7IlLRjsbNu",
        "colab": {
          "base_uri": "https://localhost:8080/"
        },
        "outputId": "50987147-9e13-40d1-cafe-4271a6b40595"
      },
      "execution_count": null,
      "outputs": [
        {
          "output_type": "stream",
          "name": "stdout",
          "text": [
            "welcome to the class\n",
            "the code is partially completed\n"
          ]
        }
      ]
    },
    {
      "cell_type": "code",
      "source": [],
      "metadata": {
        "id": "X27wTeV0gpD5"
      },
      "execution_count": null,
      "outputs": []
    },
    {
      "cell_type": "code",
      "source": [
        "# Comprehension "
      ],
      "metadata": {
        "id": "SiB9FLghk1IS"
      },
      "execution_count": null,
      "outputs": []
    },
    {
      "cell_type": "code",
      "source": [
        "# Comprehension --> The task can be implemented in a short and precise way."
      ],
      "metadata": {
        "id": "lUp91T_yk4wk"
      },
      "execution_count": null,
      "outputs": []
    },
    {
      "cell_type": "code",
      "source": [
        "# 4 types of comprehension\n",
        "# list\n",
        "# dictionary\n",
        "# set\n",
        "# Generator"
      ],
      "metadata": {
        "id": "ZKixIleflATJ"
      },
      "execution_count": null,
      "outputs": []
    },
    {
      "cell_type": "code",
      "source": [
        "# basic list\n",
        "mylist = [1,23,4,5,6,7,8]\n",
        "# here we pass an empty list to a variable\n",
        "evenlist = []\n",
        "oddlist = [] \n",
        "\n",
        "# to know which values are even and odd\n",
        "\n",
        "for x in mylist:\n",
        "  if x % 2 == 0:\n",
        "    evenlist.append(x)\n",
        "    print(evenlist)\n",
        "  else:\n",
        "    oddlist.append(x)\n",
        "    print(oddlist)\n",
        "print('The even values in the list are',evenlist)\n",
        "print('The odd values in the list are ',oddlist)\n"
      ],
      "metadata": {
        "colab": {
          "base_uri": "https://localhost:8080/"
        },
        "id": "I77BLnNZlLqE",
        "outputId": "296fa60b-dc8c-41cd-960a-ad254928500b"
      },
      "execution_count": null,
      "outputs": [
        {
          "output_type": "stream",
          "name": "stdout",
          "text": [
            "[1]\n",
            "[1, 23]\n",
            "[4]\n",
            "[1, 23, 5]\n",
            "[4, 6]\n",
            "[1, 23, 5, 7]\n",
            "[4, 6, 8]\n",
            "The even values in the list are [4, 6, 8]\n",
            "The odd values in the list are  [1, 23, 5, 7]\n"
          ]
        }
      ]
    },
    {
      "cell_type": "code",
      "source": [
        "# LIST Comprehension\n",
        "evenno = [value for value in mylist if value % 2 == 0]\n",
        "print(evenno)"
      ],
      "metadata": {
        "colab": {
          "base_uri": "https://localhost:8080/"
        },
        "id": "2q6fqMN0nhK0",
        "outputId": "5faf34ae-9f5b-4459-f157-e877e3ba4a78"
      },
      "execution_count": null,
      "outputs": [
        {
          "output_type": "stream",
          "name": "stdout",
          "text": [
            "[4, 6, 8]\n"
          ]
        }
      ]
    },
    {
      "cell_type": "code",
      "source": [
        "# dictionary\n",
        "mydict = {}\n",
        "for y in mylist:\n",
        "  mydict[y] = y**2\n",
        "print(mydict)"
      ],
      "metadata": {
        "colab": {
          "base_uri": "https://localhost:8080/"
        },
        "id": "Opd_zCVCqdVs",
        "outputId": "dc7364ae-2f0e-4df5-b4f2-0d4419c2f26e"
      },
      "execution_count": null,
      "outputs": [
        {
          "output_type": "stream",
          "name": "stdout",
          "text": [
            "{1: 1, 23: 529, 4: 16, 5: 25, 6: 36, 7: 49, 8: 64}\n"
          ]
        }
      ]
    },
    {
      "cell_type": "code",
      "source": [
        "# dictionary comprehension\n",
        "\n",
        "d = {i:i**2 for i in mylist}\n",
        "print(d)\n",
        "\n",
        "# mydict = { value for value in mylist mydict[y] = y**2}\n",
        "# print(mydict)"
      ],
      "metadata": {
        "colab": {
          "base_uri": "https://localhost:8080/"
        },
        "id": "I1t5iu1ztVLJ",
        "outputId": "4b3820a6-2e35-42fb-9643-60ca1aafe828"
      },
      "execution_count": null,
      "outputs": [
        {
          "output_type": "stream",
          "name": "stdout",
          "text": [
            "{1: 1, 23: 529, 4: 16, 5: 25, 6: 36, 7: 49, 8: 64}\n"
          ]
        }
      ]
    },
    {
      "cell_type": "code",
      "source": [
        "# -- extra (class 12) --"
      ],
      "metadata": {
        "id": "hOBLRy9p1JMC"
      },
      "execution_count": null,
      "outputs": []
    },
    {
      "cell_type": "code",
      "source": [
        "# import pygame\n",
        "# pygame.init()\n",
        "\n",
        "# window=pygame.display.set_mode((900,700))\n",
        "# pygame.display.set_caption(\"My new game\")\n",
        "\n",
        "# icon=pygame.image.load(\"icon.png\")\n",
        "# pygame.display.set_icon(icon)\n",
        "\n",
        "# spaceship=pygame.image.load(\"icon.png\")\n",
        "# spaceship_x=200\n",
        "# spaceship_y=300\n",
        "\n",
        "# def display_spaceship(x,y):\n",
        "#     window.blit(spaceship,(x,y))\n",
        "# bg=pygame.image.load(\"Background.jpg\")\n",
        "\n",
        "\n",
        "# gameon=True\n",
        "# while gameon:\n",
        "#     window.blit(bg,(0,0))\n",
        "    \n",
        "#     for even in pygame.event.get():\n",
        "#         if even.type==pygame.QUIT:\n",
        "#             gameon=False\n",
        "#     keys =pygame.key.get_pressed()\n",
        "#     if keys[pygame.K_LEFT]:\n",
        "#         spaceship_x-=1\n",
        "#     if keys[pygame.K_RIGHT]:\n",
        "#         spaceship_x+=1\n",
        "#     if keys[pygame.K_UP]:\n",
        "#         spaceship_y+=1\n",
        "#     if keys[pygame.K_DOWN]:\n",
        "#         spaceship_y-=1    \n",
        "        \n",
        "#     display_spaceship(spaceship_x,spaceship_y)\n",
        "#     pygame.display.update()\n",
        "\n",
        "\n",
        "# pygame.quit()"
      ],
      "metadata": {
        "id": "Hk5eW1hv1MhF"
      },
      "execution_count": null,
      "outputs": []
    },
    {
      "cell_type": "markdown",
      "source": [
        "**Class 9**"
      ],
      "metadata": {
        "id": "L4WH9eMhCPJ0"
      }
    },
    {
      "cell_type": "code",
      "source": [
        "# set -> {},unordered\n",
        "mylist = [1,23,4,5,6,7,8]\n",
        "\n",
        "evenset = set()           # to create an empty set\n",
        "oddset = set()\n",
        "for x in mylist:\n",
        "  if x % 2 == 0:\n",
        "    evenset.add(x)\n",
        "  else:\n",
        "    oddset.add(x)\n",
        "print(evenset)\n",
        "print(oddset)"
      ],
      "metadata": {
        "colab": {
          "base_uri": "https://localhost:8080/"
        },
        "id": "r8_0G5dD2k8K",
        "outputId": "7542056c-abfa-46f4-84c2-27ffe636baee"
      },
      "execution_count": null,
      "outputs": [
        {
          "output_type": "stream",
          "name": "stdout",
          "text": [
            "{8, 4, 6}\n",
            "{1, 7, 5, 23}\n"
          ]
        }
      ]
    },
    {
      "cell_type": "code",
      "source": [
        "#set comprehension\n",
        "myset = {1,23,4,5,6,7,8}\n",
        "\n",
        "evenset1 = {value for value in myset if value % 2 == 0}\n",
        "oddset1 = {value for value in myset if value % 2 != 0}\n",
        "print(oddset1)\n",
        "print(evenset1)"
      ],
      "metadata": {
        "id": "tuauoq__CRfL",
        "colab": {
          "base_uri": "https://localhost:8080/"
        },
        "outputId": "9644ed8d-8aa4-478c-a817-e4df7654f451"
      },
      "execution_count": null,
      "outputs": [
        {
          "output_type": "stream",
          "name": "stdout",
          "text": [
            "{1, 23, 5, 7}\n",
            "{8, 4, 6}\n"
          ]
        }
      ]
    },
    {
      "cell_type": "code",
      "source": [
        "# Generator -> Generating the value \n",
        "# (The value will be generated using the YEILD keywords)\n",
        "\n",
        "def gen(x):\n",
        "  print(\"the values are\")\n",
        "  yield x+10-x\n",
        "  yield 10*x\n",
        "# y = gen(2.4)\n",
        "# print(next(y))\n",
        "# print(next(y))\n",
        "for y in gen(2.4):\n",
        "  print(y)"
      ],
      "metadata": {
        "colab": {
          "base_uri": "https://localhost:8080/"
        },
        "id": "2xfMTceoxWv_",
        "outputId": "8b6d5cfa-05e0-443e-e292-f08ece87dad9"
      },
      "execution_count": null,
      "outputs": [
        {
          "output_type": "stream",
          "name": "stdout",
          "text": [
            "the values are\n",
            "10.0\n",
            "24.0\n"
          ]
        }
      ]
    },
    {
      "cell_type": "markdown",
      "source": [
        "**LAMBDA Functions**"
      ],
      "metadata": {
        "id": "H9Kr7ak6EA8l"
      }
    },
    {
      "cell_type": "code",
      "source": [
        "\"\"\"\n",
        "1. anonymous functions\n",
        "2. to overcome a function we use lambda functions\n",
        "3. lamdba function can have any number of parameters.\n",
        "\n",
        "Condition\n",
        "\n",
        "Lambda function will be executed one expression at a time.\n",
        "\"\"\""
      ],
      "metadata": {
        "id": "e1fycxiQEDrl"
      },
      "execution_count": null,
      "outputs": []
    },
    {
      "cell_type": "code",
      "source": [
        "# x is a variable \n",
        "# we use lambda funciton\n",
        "# we are saying that the variable x will be passed in the expression\n",
        "\n",
        "x = lambda x:x+10\n",
        "print(x(10))"
      ],
      "metadata": {
        "colab": {
          "base_uri": "https://localhost:8080/"
        },
        "id": "IjKtsN3EEEMm",
        "outputId": "1fb51021-85fb-4168-caf7-af70488f96e3"
      },
      "execution_count": null,
      "outputs": [
        {
          "output_type": "stream",
          "name": "stdout",
          "text": [
            "20\n"
          ]
        }
      ]
    },
    {
      "cell_type": "code",
      "source": [
        "x = lambda x:x*(x**2)\n",
        "print(x(5))"
      ],
      "metadata": {
        "colab": {
          "base_uri": "https://localhost:8080/"
        },
        "id": "GhAlw8s9ElnZ",
        "outputId": "a8182b70-0d9a-4da4-825a-f1307463f1d5"
      },
      "execution_count": null,
      "outputs": [
        {
          "output_type": "stream",
          "name": "stdout",
          "text": [
            "125\n"
          ]
        }
      ]
    },
    {
      "cell_type": "code",
      "source": [
        "x1 = lambda x,y,z : x+y+z\n",
        "print(x1(10,20,30))"
      ],
      "metadata": {
        "colab": {
          "base_uri": "https://localhost:8080/"
        },
        "id": "GiAwndm4E4Af",
        "outputId": "de215002-6f21-40ea-c6d7-a8df2396647d"
      },
      "execution_count": null,
      "outputs": [
        {
          "output_type": "stream",
          "name": "stdout",
          "text": [
            "60\n"
          ]
        }
      ]
    },
    {
      "cell_type": "code",
      "source": [
        "print((lambda a,b,c:a+b+c)(1,3,6))"
      ],
      "metadata": {
        "colab": {
          "base_uri": "https://localhost:8080/"
        },
        "id": "P7svFEmVGHq3",
        "outputId": "db7db67b-a7e7-4e1f-b0e3-58ab8f84f745"
      },
      "execution_count": null,
      "outputs": [
        {
          "output_type": "stream",
          "name": "stdout",
          "text": [
            "10\n"
          ]
        }
      ]
    },
    {
      "cell_type": "code",
      "source": [
        "# for loop with lambda function\n",
        "\n",
        "x2 = [lambda x=x:x*10 for x in range(1,11)]\n",
        "# print(x2())\n",
        "for x3 in x2:\n",
        "  print(x3())\n"
      ],
      "metadata": {
        "colab": {
          "base_uri": "https://localhost:8080/"
        },
        "id": "niFHCohOIDj7",
        "outputId": "f52a2aef-8278-4916-f7fa-760b874721f0"
      },
      "execution_count": null,
      "outputs": [
        {
          "output_type": "stream",
          "name": "stdout",
          "text": [
            "10\n",
            "20\n",
            "30\n",
            "40\n",
            "50\n",
            "60\n",
            "70\n",
            "80\n",
            "90\n",
            "100\n"
          ]
        }
      ]
    },
    {
      "cell_type": "code",
      "source": [
        "# if and else conditions with lambda fucntions\n",
        "\n",
        "y = lambda a,b: a if (a>b) else b\n",
        "\n",
        "# y is the variable \n",
        "# lambda is the function\n",
        "# a,b are the parameters\n",
        "# if and else is the expression \n",
        "\n",
        "print(y(5,2))"
      ],
      "metadata": {
        "colab": {
          "base_uri": "https://localhost:8080/"
        },
        "id": "P57bAIQuKYv5",
        "outputId": "8160d5ed-f672-4680-ecb6-e9a02af20f52"
      },
      "execution_count": null,
      "outputs": [
        {
          "output_type": "stream",
          "name": "stdout",
          "text": [
            "5\n"
          ]
        }
      ]
    },
    {
      "cell_type": "code",
      "source": [
        "tables = [lambda x = x:x+10 for x in range(1,11)]\n",
        "for table in tables:\n",
        "  print(table())"
      ],
      "metadata": {
        "colab": {
          "base_uri": "https://localhost:8080/"
        },
        "id": "hH52WaP4ND6k",
        "outputId": "5111553e-0e41-43af-e1e4-47fb9cce7a64"
      },
      "execution_count": null,
      "outputs": [
        {
          "output_type": "stream",
          "name": "stdout",
          "text": [
            "11\n",
            "12\n",
            "13\n",
            "14\n",
            "15\n",
            "16\n",
            "17\n",
            "18\n",
            "19\n",
            "20\n"
          ]
        }
      ]
    },
    {
      "cell_type": "code",
      "source": [
        "# string formatting \n",
        "\n",
        "'''\n",
        "operators, .format , f string , string template\n",
        "'''"
      ],
      "metadata": {
        "colab": {
          "base_uri": "https://localhost:8080/",
          "height": 35
        },
        "id": "C21H9B8GN8Oa",
        "outputId": "0da9ffda-1259-4a73-fbc3-48332f1050e9"
      },
      "execution_count": null,
      "outputs": [
        {
          "output_type": "execute_result",
          "data": {
            "text/plain": [
              "'\\noperators, .format , f string , string template\\n'"
            ],
            "application/vnd.google.colaboratory.intrinsic+json": {
              "type": "string"
            }
          },
          "metadata": {},
          "execution_count": 25
        }
      ]
    },
    {
      "cell_type": "code",
      "source": [
        "# using operators\n",
        "print(\"hello %s, welcome all\"%\"class\")\n"
      ],
      "metadata": {
        "colab": {
          "base_uri": "https://localhost:8080/"
        },
        "id": "tuLAdw_7VOA7",
        "outputId": "06aef62d-a90c-4cb6-d7ef-aa08190de72a"
      },
      "execution_count": null,
      "outputs": [
        {
          "output_type": "stream",
          "name": "stdout",
          "text": [
            "hello class, welcome all\n"
          ]
        }
      ]
    },
    {
      "cell_type": "code",
      "source": [
        "print(\"Hello %sWelcome %s\" %(\"class\\n\",\"all\"))"
      ],
      "metadata": {
        "colab": {
          "base_uri": "https://localhost:8080/"
        },
        "id": "80GX3AidVgNC",
        "outputId": "eb3b4543-a05b-4c2a-b7dd-f709a718852e"
      },
      "execution_count": null,
      "outputs": [
        {
          "output_type": "stream",
          "name": "stdout",
          "text": [
            "Hello class\n",
            "Welcome all\n"
          ]
        }
      ]
    },
    {
      "cell_type": "code",
      "source": [],
      "metadata": {
        "id": "Vbc5qGtDVwUF"
      },
      "execution_count": null,
      "outputs": []
    },
    {
      "cell_type": "markdown",
      "source": [
        "**Class 10**"
      ],
      "metadata": {
        "id": "WcKAXN8SxEsM"
      }
    },
    {
      "cell_type": "code",
      "source": [
        "# data should be in terms of key and values\n",
        "\n",
        "mydict = {\"name\":\"su\",\"class\":\"one\",\"roll no\":12345}\n",
        "\n",
        "print(\"the name is {}. I am from the class {}\".format(\"suhas\", 1 ))"
      ],
      "metadata": {
        "id": "JYrC_sA2xHcP",
        "colab": {
          "base_uri": "https://localhost:8080/"
        },
        "outputId": "2fd3b2bf-a505-4aa8-8b43-503d3ac44bed"
      },
      "execution_count": null,
      "outputs": [
        {
          "output_type": "stream",
          "name": "stdout",
          "text": [
            "the name is suhas. I am from the class 1\n"
          ]
        }
      ]
    },
    {
      "cell_type": "code",
      "source": [
        "#  .format using dictionary\n",
        "\n",
        "print(\"this  %(company)s is a %(department)s portal\"%{\"company\":\"GFG\",\"department\":\"CS\"})"
      ],
      "metadata": {
        "colab": {
          "base_uri": "https://localhost:8080/"
        },
        "id": "NyuW-eeK9mgH",
        "outputId": "aeac4661-fe31-46ff-af79-4ebd058bf643"
      },
      "execution_count": null,
      "outputs": [
        {
          "output_type": "stream",
          "name": "stdout",
          "text": [
            "this  GFG is a CS portal\n"
          ]
        }
      ]
    },
    {
      "cell_type": "code",
      "source": [
        "# F - string \n",
        "# the f string automatically converts the string into an integer.\n",
        "num1 = 10\n",
        "num2 = 19\n",
        "print(f\"the sum of two values are {num1+num2}\")"
      ],
      "metadata": {
        "colab": {
          "base_uri": "https://localhost:8080/"
        },
        "id": "AOV1URMH--Hv",
        "outputId": "ccd8a602-5de6-4efa-cc95-9a8440123fd0"
      },
      "execution_count": null,
      "outputs": [
        {
          "output_type": "stream",
          "name": "stdout",
          "text": [
            "the sum of two values are 29\n"
          ]
        }
      ]
    },
    {
      "cell_type": "code",
      "source": [
        "num1 = input(\"Enter 1st number\")\n",
        "num2 = input(\"Enter 2nd number\")\n",
        "print(f\"the sum of two values are {num1+num2}\")"
      ],
      "metadata": {
        "colab": {
          "base_uri": "https://localhost:8080/"
        },
        "id": "q4tr5ztPA1hW",
        "outputId": "0537155d-79e4-4327-bcc3-95a976509e9d"
      },
      "execution_count": null,
      "outputs": [
        {
          "output_type": "stream",
          "name": "stdout",
          "text": [
            "Enter 1st number10\n",
            "Enter 2nd number20\n",
            "the sum of two values are 1020\n"
          ]
        }
      ]
    },
    {
      "cell_type": "code",
      "source": [
        "# MODULES\n",
        "# -> it can be a build in library (or) it will be doing its own tasks.\n",
        "# we import modules \n",
        "# EX:\n",
        "import math \n",
        "\n",
        "print(math.pi)"
      ],
      "metadata": {
        "colab": {
          "base_uri": "https://localhost:8080/"
        },
        "id": "9N3gzcmXBLw6",
        "outputId": "84e0ab1b-2840-4882-84bd-07cf0660350f"
      },
      "execution_count": null,
      "outputs": [
        {
          "output_type": "stream",
          "name": "stdout",
          "text": [
            "3.141592653589793\n"
          ]
        }
      ]
    },
    {
      "cell_type": "code",
      "source": [
        "print(math.sin(1))"
      ],
      "metadata": {
        "colab": {
          "base_uri": "https://localhost:8080/"
        },
        "id": "VstPJ87SGOG8",
        "outputId": "421d74c2-05e8-4a02-ce8a-855f6c6b6a35"
      },
      "execution_count": null,
      "outputs": [
        {
          "output_type": "stream",
          "name": "stdout",
          "text": [
            "0.8414709848078965\n"
          ]
        }
      ]
    },
    {
      "cell_type": "code",
      "source": [
        "import datetime\n",
        "date = datetime.datetime.now()\n",
        "print(date)"
      ],
      "metadata": {
        "colab": {
          "base_uri": "https://localhost:8080/"
        },
        "id": "4rbP1ggaGR1-",
        "outputId": "bd0e4dbe-ce22-4ce7-8653-49e2ae3cdd67"
      },
      "execution_count": null,
      "outputs": [
        {
          "output_type": "stream",
          "name": "stdout",
          "text": [
            "2023-02-06 23:56:30.287866\n"
          ]
        }
      ]
    },
    {
      "cell_type": "code",
      "source": [
        "# creating your own module\n",
        "\n",
        "import module1\n",
        "module1.a(\"suhas\",\"good evening -\")"
      ],
      "metadata": {
        "colab": {
          "base_uri": "https://localhost:8080/"
        },
        "id": "Wf-q_ASxKKSg",
        "outputId": "fcb53b5e-3782-4646-9741-6117065819be"
      },
      "execution_count": null,
      "outputs": [
        {
          "output_type": "stream",
          "name": "stdout",
          "text": [
            "good evening - suhas\n"
          ]
        }
      ]
    },
    {
      "cell_type": "code",
      "source": [],
      "metadata": {
        "id": "TqF4A_XbUw73"
      },
      "execution_count": null,
      "outputs": []
    },
    {
      "cell_type": "markdown",
      "source": [
        "**class 11**\n",
        "\n",
        "**OOPS Concept**"
      ],
      "metadata": {
        "id": "4CXmc2iKTAgF"
      }
    },
    {
      "cell_type": "code",
      "source": [
        "# OOPS - Object Oriented Programming Language\n",
        "# Fundamental Concepts :-\n",
        "# 1. Class\n",
        "# 2. object\n",
        "# 3. Inheritance \n",
        "# 4. Encapsulation\n",
        "# 5. Polymorphism "
      ],
      "metadata": {
        "id": "euukal2bTF7k"
      },
      "execution_count": null,
      "outputs": []
    },
    {
      "cell_type": "code",
      "source": [
        "#                                 CLASS\n",
        "# CLass -> It is a Blueprint of the program, it is the main function in a program.\n",
        "# Ex: --- in terms of a house : CLASS is the blueprint of the house.\n",
        "# Objects are the seperate rooms in the house.\n",
        "# 1 main class has many different objects.\n",
        "# changes on the objects cant have any effect on the main class until defined."
      ],
      "metadata": {
        "id": "T9J0Fs3ZpGar"
      },
      "execution_count": null,
      "outputs": []
    },
    {
      "cell_type": "code",
      "source": [
        "class mylaptop():\n",
        "  # attribute -> A variable that is defined inside a class that can be shared to all other objects.\n",
        "  processor  = \"Intel I5\"\n",
        "  display = \"Full HD\"\n",
        "mylaptop.processor = \"Intel I7\"\n",
        "# Any changes made to the main class will effect all sub classes(objects)"
      ],
      "metadata": {
        "id": "VvhPwe03poKf"
      },
      "execution_count": null,
      "outputs": []
    },
    {
      "cell_type": "code",
      "source": [
        "obj1 = mylaptop()\n",
        "obj2 = mylaptop()\n",
        "obj3 = mylaptop()\n",
        "\n",
        "print(obj1.processor)\n",
        "print(obj2.display)\n",
        "print(obj3.processor)\n",
        "\n",
        "print()\n",
        "# Updating a specific object - only effects that object\n",
        "obj3.processor = \"Pentium\"\n",
        "print(\"The value of the object after updating for obj3 is -\",obj3.processor)\n",
        "# Any changes made to a specific object will only have effect on that specific object\n"
      ],
      "metadata": {
        "colab": {
          "base_uri": "https://localhost:8080/"
        },
        "id": "361Gpl2QtVXN",
        "outputId": "850e5a83-b830-4fec-f3d3-2e5e35463fb1"
      },
      "execution_count": null,
      "outputs": [
        {
          "output_type": "stream",
          "name": "stdout",
          "text": [
            "Intel I7\n",
            "Full HD\n",
            "Intel I7\n",
            "\n",
            "The value of the object after updating for obj3 is - Pentium\n"
          ]
        }
      ]
    },
    {
      "cell_type": "code",
      "source": [
        "# Instance Attribute (or) Instance Class Atribute\n",
        "\n",
        "class mylaptop():\n",
        "  # attribute -> A variable that is defined inside a class that can be shared to all other objects.\n",
        "  processor  = \"Intel I5\"\n",
        "  display = \"Full HD\"\n",
        "  \n",
        "  # instance attribute -> It is a variable that belongs to only one object.\n",
        "  # will not have effect on the entire class, specific to the object.\n",
        "  def __init__(self,color,os,ram):\n",
        "    self.color = color\n",
        "    self.os = os\n",
        "    self.ram = ram\n",
        "\n",
        "  # Method\n",
        "  # we defined a funciton.\n",
        "  # self should be passed in the function to show that it is a part of the Class\n",
        "  def a(self):\n",
        "    print(\"hello all\")\n",
        "\n",
        "\n",
        "mylaptop.processor = \"Intel I7\"\n",
        "# Any changes made to the main class will effect all sub classes(objects)\n",
        "\n",
        "\n",
        "obj1 = mylaptop(\"Red\",\"windows\", 8 )\n",
        "# since we put an instance class attribute - we have to mention this as a parameter(color,os,ram specific to each object)\n",
        "obj2 = mylaptop(\"Green\",\"windows\", 16)\n",
        "obj3 = mylaptop(\"Black\",\"Mac os\", 32)\n",
        "\n",
        "print(obj1.processor)\n",
        "print(obj2.display)\n",
        "print(obj3.processor)\n",
        "\n",
        "print()\n",
        "# Updating a specific object - only effects that object\n",
        "obj3.processor = \"Mac os\"\n",
        "print(\"The value of the object after updating for obj3 is -\",obj3.processor)\n",
        "# Any changes made to a specific object will only have effect on that specific object\n",
        "print(obj1.color)\n",
        "print(obj3.color)\n",
        "print(obj3.os)\n",
        "print(obj3.ram)\n",
        "print(type(obj3.ram))\n",
        "\n",
        "print()\n",
        "# calling the funciton that is added (method)\n",
        "\n",
        "obj1.a()"
      ],
      "metadata": {
        "colab": {
          "base_uri": "https://localhost:8080/"
        },
        "id": "YgXJJ26tteOe",
        "outputId": "0b228759-fc30-47df-d9ad-1571c7323923"
      },
      "execution_count": null,
      "outputs": [
        {
          "output_type": "stream",
          "name": "stdout",
          "text": [
            "Intel I7\n",
            "Full HD\n",
            "Intel I7\n",
            "\n",
            "The value of the object after updating for obj3 is - Mac os\n",
            "Red\n",
            "Black\n",
            "Mac os\n",
            "32\n",
            "<class 'int'>\n",
            "\n",
            "hello all\n"
          ]
        }
      ]
    },
    {
      "cell_type": "code",
      "source": [
        "# INHERITANCE (inheritance - inherit, parent class - child class, properties.)"
      ],
      "metadata": {
        "id": "woICw6__Ej9H"
      },
      "execution_count": null,
      "outputs": []
    },
    {
      "cell_type": "code",
      "source": [
        "class mylaptop():\n",
        "  # attribute -> A variable that is defined inside a class that can be shared to all other objects.\n",
        "  processor  = \"Intel I5\"\n",
        "  display = \"Full HD\"\n",
        "  \n",
        "  # instance attribute -> It is a variable that belongs to only one object.\n",
        "  # will not have effect on the entire class, specific to the object.\n",
        "  # def __init__(self,color,os,ram):\n",
        "  def __init__(self,color):\n",
        "    self.color = color\n",
        "    # self.os = os\n",
        "    # self.ram = ram\n",
        "\n",
        "  # Method\n",
        "  # we defined a funciton.\n",
        "  # self should be passed in the function to show that it is a part of the Class\n",
        "  def a(self):\n",
        "    print(\"hello all\")\n",
        "\n",
        "## Inheritance -  parent class and child class \n",
        "## child (class) has the right to use the properties of the parent (class)\n",
        "# creating new child class\n",
        "\n",
        "class mymobile(mylaptop):\n",
        "  def __init__(self,color,camera):\n",
        "    self.camera = camera\n",
        "    # we initiate the parent class in the child class\n",
        "    # by using --> parentclass.__init__(instance attribute)\n",
        "    mylaptop. __init__(self,color)\n",
        "\n",
        "\n",
        "mylaptop.processor = \"Intel I7\"\n",
        "# Any changes made to the main class will effect all sub classes(objects)\n",
        "\n",
        "\n",
        "#obj1 = mylaptop(\"Red\",\"windows\", 8 )\n",
        "obj1 = mylaptop(\"Red\")\n",
        "# since we put an instance class attribute - we have to mention this as a parameter(color,os,ram specific to each object)\n",
        "#obj2 = mylaptop(\"Green\",\"windows\", 16)\n",
        "obj2 = mylaptop(\"Green\")\n",
        "#obj3 = mylaptop(\"Black\",\"Mac os\", 32)\n",
        "obj3 = mylaptop(\"Black\")\n",
        "\n",
        "print(obj1.processor)\n",
        "print(obj2.display)\n",
        "print(obj3.processor)\n",
        "\n",
        "print()\n",
        "# Updating a specific object - only effects that object\n",
        "obj3.processor = \"Mac os\"\n",
        "print(\"The value of the object after updating for obj3 is -\",obj3.processor)\n",
        "# Any changes made to a specific object will only have effect on that specific object\n",
        "print(obj1.color)\n",
        "print(obj3.color)\n",
        "#print(obj3.os)\n",
        "#print(obj3.ram)\n",
        "#print(type(obj3.ram))\n",
        "\n",
        "print()\n",
        "# calling the funciton that is added (method)\n",
        "\n",
        "obj1.a()"
      ],
      "metadata": {
        "colab": {
          "base_uri": "https://localhost:8080/"
        },
        "id": "Gt4gWgPMN5j6",
        "outputId": "e6fe3b44-0549-4866-dadb-f88475cfd4c9"
      },
      "execution_count": null,
      "outputs": [
        {
          "output_type": "stream",
          "name": "stdout",
          "text": [
            "Intel I7\n",
            "Full HD\n",
            "Intel I7\n",
            "\n",
            "The value of the object after updating for obj3 is - Mac os\n",
            "Red\n",
            "Black\n",
            "\n",
            "hello all\n"
          ]
        }
      ]
    },
    {
      "cell_type": "code",
      "source": [
        "object1 = mymobile(\"white\",\"HP\")\n",
        "print(object1.processor)\n",
        "print(object1.camera)\n",
        "# object2 = mymobile(\"black\",\"cannon\")\n",
        "# print(object2.processor)\n",
        "# print(object2.camera)"
      ],
      "metadata": {
        "colab": {
          "base_uri": "https://localhost:8080/"
        },
        "id": "ipwl7nXtQKge",
        "outputId": "74635f63-b9ef-4fea-ed4c-07f4e7f88e9c"
      },
      "execution_count": null,
      "outputs": [
        {
          "output_type": "stream",
          "name": "stdout",
          "text": [
            "Intel I7\n",
            "HP\n"
          ]
        }
      ]
    },
    {
      "cell_type": "code",
      "source": [
        "## Encapsulation (hide data)"
      ],
      "metadata": {
        "id": "oNsfHRmXSBk1"
      },
      "execution_count": null,
      "outputs": []
    },
    {
      "cell_type": "code",
      "source": [
        "# Encapsulation\n",
        "# Hide (or) bundle data inside one single unit.\n",
        "\n",
        "'''\n",
        "2 methods:\n",
        "private method \n",
        "public method\n",
        "'''"
      ],
      "metadata": {
        "colab": {
          "base_uri": "https://localhost:8080/",
          "height": 35
        },
        "id": "YS9UvcdGUp4M",
        "outputId": "61e8bf52-79d7-40cf-cf0d-45630bd7a564"
      },
      "execution_count": null,
      "outputs": [
        {
          "output_type": "execute_result",
          "data": {
            "text/plain": [
              "'\\n2 methods:\\nprivate method \\npublic method\\n'"
            ],
            "application/vnd.google.colaboratory.intrinsic+json": {
              "type": "string"
            }
          },
          "metadata": {},
          "execution_count": 50
        }
      ]
    },
    {
      "cell_type": "code",
      "source": [
        "# Public method \n",
        "class data():\n",
        "  def __init__(a,username,password):\n",
        "    a.username = username\n",
        "    a.password = password"
      ],
      "metadata": {
        "id": "TjsqQiJWVBd-"
      },
      "execution_count": null,
      "outputs": []
    },
    {
      "cell_type": "code",
      "source": [
        "# private method\n",
        "class data():\n",
        "  def __init__(a,username,password):\n",
        "    a.username = username\n",
        "    a.__password = password\n",
        "    # using _ _ -> double __ : makes this a private method  \n",
        "  # To access the password we create a new function\n",
        "  def access(a):\n",
        "    print(a.__password)"
      ],
      "metadata": {
        "id": "MUft3rgrWHt1"
      },
      "execution_count": null,
      "outputs": []
    },
    {
      "cell_type": "code",
      "source": [
        "obj = data(\"Admin\",\"Pass123\")\n",
        "print(obj.username)\n",
        "#print(obj.password)\n",
        "obj.access()"
      ],
      "metadata": {
        "colab": {
          "base_uri": "https://localhost:8080/"
        },
        "id": "pTdudGVvVMrs",
        "outputId": "aea72f14-c368-4846-cda5-3ddb37e8913d"
      },
      "execution_count": null,
      "outputs": [
        {
          "output_type": "stream",
          "name": "stdout",
          "text": [
            "Admin\n",
            "Pass123\n"
          ]
        }
      ]
    },
    {
      "cell_type": "code",
      "source": [
        "## Polymorphism "
      ],
      "metadata": {
        "id": "T13bAZMNVU1-"
      },
      "execution_count": null,
      "outputs": []
    },
    {
      "cell_type": "code",
      "source": [
        "# many different method, forms or funcitons."
      ],
      "metadata": {
        "id": "vFMP5UU8YERA"
      },
      "execution_count": null,
      "outputs": []
    },
    {
      "cell_type": "code",
      "source": [
        "class birds():\n",
        "  def intro(self):\n",
        "    print(\"there are different types of birds\")\n",
        "  def fly(self):\n",
        "    print(\"most of the birds cant fly\")\n",
        "  def color(self):\n",
        "    print(\"every bird has different kind off colors\")"
      ],
      "metadata": {
        "id": "W14xGuGaYK19"
      },
      "execution_count": null,
      "outputs": []
    },
    {
      "cell_type": "code",
      "source": [
        "class parrot(birds):\n",
        "  def fly(self):\n",
        "    print(\"parrot can fly\")\n",
        "class penguin(birds):\n",
        "  def fly(self):\n",
        "    print(\"penguins cannot fly\")\n",
        "  # def __init__(self,color):\n",
        "  #   self.color = color\n",
        "  def color(self):\n",
        "    print(\"the penguins color is white\")"
      ],
      "metadata": {
        "id": "AB23ZOPhYtXZ"
      },
      "execution_count": null,
      "outputs": []
    },
    {
      "cell_type": "code",
      "source": [
        "o1 = birds()\n",
        "o2 = parrot()\n",
        "o3 = penguin()\n",
        "o1.fly()\n",
        "# print('The intro of o2 is - ',o2.intro())\n",
        "o2.intro()\n",
        "o2.fly()\n",
        "o3.fly()\n",
        "o3.color()"
      ],
      "metadata": {
        "colab": {
          "base_uri": "https://localhost:8080/"
        },
        "id": "mnegWimFfG9S",
        "outputId": "3cdf9eed-36ba-4c82-e410-af5c700a78c2"
      },
      "execution_count": null,
      "outputs": [
        {
          "output_type": "stream",
          "name": "stdout",
          "text": [
            "most of the birds cant fly\n",
            "there are different types of birds\n",
            "parrot can fly\n",
            "penguins cannot fly\n",
            "the penguins color is white\n"
          ]
        }
      ]
    },
    {
      "cell_type": "code",
      "source": [],
      "metadata": {
        "id": "cZHcHAtsgIjx"
      },
      "execution_count": null,
      "outputs": []
    }
  ]
}