{
  "nbformat": 4,
  "nbformat_minor": 0,
  "metadata": {
    "colab": {
      "provenance": [],
      "authorship_tag": "ABX9TyPdToQPgoJnR5vyNAp9cXXt",
      "include_colab_link": true
    },
    "kernelspec": {
      "name": "python3",
      "display_name": "Python 3"
    },
    "language_info": {
      "name": "python"
    }
  },
  "cells": [
    {
      "cell_type": "markdown",
      "metadata": {
        "id": "view-in-github",
        "colab_type": "text"
      },
      "source": [
        "<a href=\"https://colab.research.google.com/github/suhaspradhan03/Python_Teachnook/blob/main/Teachnook_Minor_Project(Python).ipynb\" target=\"_parent\"><img src=\"https://colab.research.google.com/assets/colab-badge.svg\" alt=\"Open In Colab\"/></a>"
      ]
    },
    {
      "cell_type": "markdown",
      "source": [
        "**Python Minor Project**"
      ],
      "metadata": {
        "id": "rXnWA2LvOD0H"
      }
    },
    {
      "cell_type": "code",
      "execution_count": null,
      "metadata": {
        "id": "Bd4j5BxxNWaw"
      },
      "outputs": [],
      "source": [
        "'''\n",
        "Python Minor Project\n",
        "Create A Countdown Timer Using Python\n",
        "\n",
        "Features To Include\n",
        "Reset/ Stop\n",
        "Pause /Resume\n",
        "'''"
      ]
    },
    {
      "cell_type": "code",
      "source": [
        "import time\n",
        "\n",
        "class CountdownTimer:\n",
        "    def __init__(self, t):\n",
        "        self.seconds = t\n",
        "        self.is_running = False\n",
        "\n",
        "    def start(self):\n",
        "        self.is_running = True\n",
        "        while self.seconds:\n",
        "            mins, secs = divmod(self.seconds, 60)\n",
        "            timer = '{:02d}:{:02d}'.format(mins, secs)\n",
        "            print(secs)\n",
        "            print(timer, end=\"\\r\")\n",
        "            time.sleep(0.5)\n",
        "            self.seconds -= 1\n",
        "            if not self.is_running:\n",
        "                break\n",
        "\n",
        "        if self.is_running:\n",
        "            print('Time\\'s up!')\n",
        "\n",
        "    def stop(self):\n",
        "        self.is_running = False\n",
        "\n",
        "    def reset(self, t):\n",
        "        self.seconds = t\n",
        "        self.is_running = False\n",
        "\n",
        "t = input(\"Enter the time in seconds: \")\n",
        "timer = CountdownTimer(int(t))\n",
        "\n",
        "while True:\n",
        "    command = input(\"Enter a command (start, stop, reset, exit): \")\n",
        "    if command == 'start':\n",
        "        timer.start()\n",
        "    elif command == 'stop':\n",
        "        timer.stop()\n",
        "    elif command == 'reset':\n",
        "        t = input(\"Enter the time in seconds: \")\n",
        "        timer.reset(int(t))\n",
        "    elif command == 'exit':\n",
        "        break\n",
        "    else:\n",
        "        print(\"Invalid command\")"
      ],
      "metadata": {
        "colab": {
          "base_uri": "https://localhost:8080/"
        },
        "id": "uodOM5sy7459",
        "outputId": "748e2cdf-cc03-4298-885a-3fa2bde1fa7a"
      },
      "execution_count": 1,
      "outputs": [
        {
          "name": "stdout",
          "output_type": "stream",
          "text": [
            "Enter the time in seconds: 5\n",
            "Enter a command (start, stop, reset, exit): start\n",
            "5\n",
            "4\n",
            "3\n",
            "2\n",
            "1\n",
            "Time's up!\n",
            "Enter a command (start, stop, reset, exit): exit\n"
          ]
        }
      ]
    }
  ]
}