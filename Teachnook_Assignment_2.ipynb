{
  "nbformat": 4,
  "nbformat_minor": 0,
  "metadata": {
    "colab": {
      "provenance": [],
      "authorship_tag": "ABX9TyOnXu9yJyilQi22EbpNd2T8",
      "include_colab_link": true
    },
    "kernelspec": {
      "name": "python3",
      "display_name": "Python 3"
    },
    "language_info": {
      "name": "python"
    }
  },
  "cells": [
    {
      "cell_type": "markdown",
      "metadata": {
        "id": "view-in-github",
        "colab_type": "text"
      },
      "source": [
        "<a href=\"https://colab.research.google.com/github/suhaspradhan03/Python_Teachnook/blob/main/Teachnook_Assignment_2.ipynb\" target=\"_parent\"><img src=\"https://colab.research.google.com/assets/colab-badge.svg\" alt=\"Open In Colab\"/></a>"
      ]
    },
    {
      "cell_type": "markdown",
      "source": [
        "**Assignment 2**\n"
      ],
      "metadata": {
        "id": "BdRC7uB19GZq"
      }
    },
    {
      "cell_type": "code",
      "source": [
        "              # Assignment 2\n",
        "\"\"\"in class assignment - Create a simple Calculator\"\"\"\n",
        "'''\n",
        "1. what is r+ and an example\n",
        "2. what is w+ and an example \n",
        "3. what is a+ and an example \n",
        "'''"
      ],
      "metadata": {
        "id": "DmF-O6GV9KFV"
      },
      "execution_count": null,
      "outputs": []
    },
    {
      "cell_type": "code",
      "source": [
        "# create a simple calculator\n",
        "\n",
        "def cal():\n",
        "  num1 = int(input(\"enter the first value\"))\n",
        "  num2 = int(input(\"enter the second value\"))\n",
        "  op = input(\"Enter the operator -> +,-,*,/\")\n",
        "  if op == \"+\":\n",
        "    print(\"The addition of 2 values \",(num1+num2))\n",
        "  elif op == \"-\":\n",
        "    print(\"The subtraction of 2 values \",(num1-num2))\n",
        "  elif op == \"*\":\n",
        "    print(\"The multiplication of 2 values \",(num1*num2))\n",
        "  else:\n",
        "    print(\"The Division of 2 values\",(num1/num2))\n",
        "\n",
        "cal()\n"
      ],
      "metadata": {
        "colab": {
          "base_uri": "https://localhost:8080/"
        },
        "id": "bljaOLGN9dV6",
        "outputId": "09c04e8f-5ccd-4c21-cd71-b481626150ab"
      },
      "execution_count": 1,
      "outputs": [
        {
          "output_type": "stream",
          "name": "stdout",
          "text": [
            "enter the first value5\n",
            "enter the second value6\n",
            "Enter the operator -> +,-,*,/*\n",
            "The multiplication of 2 values  30\n"
          ]
        }
      ]
    },
    {
      "cell_type": "code",
      "source": [
        "# what is r+ ?\n",
        "'''\n",
        "This method opens the file for both reading and writing.\n",
        "start of the file - handle is located\n",
        "'''\n",
        "\n",
        "file = open(\"myfile.txt\",\"r+\") \n",
        "print(\"Output of the Read function is \")\n",
        "print(file.read())\n",
        "print()\n"
      ],
      "metadata": {
        "colab": {
          "base_uri": "https://localhost:8080/"
        },
        "id": "bXyZxZp9BcKY",
        "outputId": "3ef0198a-818d-4bfb-b95b-23e30ca201b6"
      },
      "execution_count": 6,
      "outputs": [
        {
          "output_type": "stream",
          "name": "stdout",
          "text": [
            "Output of the Read function is \n",
            "\n",
            "\n"
          ]
        }
      ]
    },
    {
      "cell_type": "code",
      "source": [
        "# what is w+?\n",
        "\"\"\"\n",
        "This method opens the file for both reading and writing. \n",
        "The text is over written and deleted from an existing file.\n",
        "\"\"\"\n",
        "\n",
        "# with open('myfile.txt', 'w+') as f:   # create a new file \n",
        "#     f.write(\"test 1\\n\")\n",
        "#     f.write(\"test 2\\n\")\n",
        "#     f.write(\"test 3\\n\") \n",
        "#     print(file.read())\n",
        "\n",
        "with open('file.txt', 'w+') as f:   # create a new file \n",
        "    f.write(\"test 1\\n\")\n",
        "    f.write(\"test 2\\n\")\n",
        "    f.write(\"test 3\\n\")             # now the file pointer is at the end\n",
        "    f.write(\"test 4\\n\")  \n",
        "    f.seek(0)                       # move the file pointer to the beginning\n",
        "    lines = f.read()                # read it, now we can read!\n",
        "    print(lines)          "
      ],
      "metadata": {
        "colab": {
          "base_uri": "https://localhost:8080/"
        },
        "id": "yYQeWIh5H2mJ",
        "outputId": "f71a6e61-6e5a-4a4f-baf1-39b4219bb1ed"
      },
      "execution_count": 18,
      "outputs": [
        {
          "output_type": "stream",
          "name": "stdout",
          "text": [
            "test 1\n",
            "test 2\n",
            "test 3\n",
            "test 4\n",
            "\n"
          ]
        }
      ]
    },
    {
      "cell_type": "code",
      "source": [
        "# what is a+?\n",
        "'''\n",
        "Using this method, you can read and write in a file.\n",
        "if a file doesnt exist a new file will be created.\n",
        "'''\n",
        "\n",
        "with open('file.txt', 'a+') as f:\n",
        "    f.seek(0)                       # file pointer at end, move to beginning\n",
        "    lines = f.readlines()           # read all and file pointer at end again\n",
        "    f.write(\"\\n\" + str(len(lines))) # append number of lines to a file\n",
        "    "
      ],
      "metadata": {
        "id": "yl0_JtlBIPxQ"
      },
      "execution_count": 21,
      "outputs": []
    },
    {
      "cell_type": "code",
      "source": [],
      "metadata": {
        "id": "9bgz8VpOKhAC"
      },
      "execution_count": null,
      "outputs": []
    }
  ]
}